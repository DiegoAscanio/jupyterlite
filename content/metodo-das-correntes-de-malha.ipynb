{
  "metadata": {
    "language_info": {
      "codemirror_mode": {
        "name": "python",
        "version": 3
      },
      "file_extension": ".py",
      "mimetype": "text/x-python",
      "name": "python",
      "nbconvert_exporter": "python",
      "pygments_lexer": "ipython3",
      "version": "3.8"
    },
    "kernelspec": {
      "name": "python",
      "display_name": "Python (Pyodide)",
      "language": "python"
    }
  },
  "nbformat_minor": 4,
  "nbformat": 4,
  "cells": [
    {
      "cell_type": "markdown",
      "source": "# Método das correntes das malhas\n\nEncontre a potência dissipada pelo resistor de \\\\(4 \\Omega\\\\) resolvendo o circuito abaixo através do método das correntes das malhas:\n\n![](https://i.imgur.com/Vw8H6S4.png)\n\nComo resolvido no slide, encontramos as equações:\n\n\\\\[\n\\begin{align*}\n\\left\\{\n    \\begin{array}{l}\n    25 i_1 - 5 i_2 - 20 i_3 &= 50 \\quad (1) \\\\\n    5 i_1 - 10 i_2 + 4 i_3 &= 0 \\quad (2) \\\\\n    5 i_1 + 4 i_2 - 9 i_3 &= 0 \\quad (3) \n    \\end{array}\n\\right.\n\\end{align*}\n\\\\]\n\nNa representação matricial:\n\n\\\\[\n    \\begin{bmatrix}\n        25 & -5 & -20 \\\\\n        5  & -10 & 4  \\\\\n        5  &  4 & -9\n    \\end{bmatrix} \\cdot\n    \\begin{bmatrix}\n        i_{1} \\\\\n        i_{2} \\\\\n        i_{3}\n    \\end{bmatrix} =\n    \\begin{bmatrix}\n        50 \\\\\n        0 \\\\\n        0\n    \\end{bmatrix}\n\\\\]\n\nResolvendo no numpy para encontrar a potência dissipada em \\\\(4 \\Omega\\\\):",
      "metadata": {}
    },
    {
      "cell_type": "code",
      "source": "from IPython.display import Markdown\nimport numpy as np\n\nimport numpy as np\n\nA = np.array([\n    [25, -5, -20],\n    [ 5, -10,  4],\n    [ 5,  4,  -9]\n])\nB = np.array([\n    50,\n    0,\n    0\n])\nkeys = ['i_1', 'i_2', 'i_3']\nresults = {\n    keys[i]: result for i, result in enumerate(np.linalg.solve(A, B))\n}\npotencia_4_Ohm = 4 * (results['i_2'] - results['i_3'])**(2)\n\ndisplay(\n    Markdown(\n        r'A potência dissipada no resistor de \\\\(4 \\Omega\\\\) é de \\\\({}\\\\)W'.format(\n            potencia_4_Ohm\n        )\n    )\n)",
      "metadata": {
        "trusted": true
      },
      "execution_count": null,
      "outputs": []
    }
  ]
}