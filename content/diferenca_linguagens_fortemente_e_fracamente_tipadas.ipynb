{
  "metadata": {
    "language_info": {
      "codemirror_mode": {
        "name": "python",
        "version": 3
      },
      "file_extension": ".py",
      "mimetype": "text/x-python",
      "name": "python",
      "nbconvert_exporter": "python",
      "pygments_lexer": "ipython3",
      "version": "3.8"
    },
    "kernelspec": {
      "name": "python",
      "display_name": "Python (Pyodide)",
      "language": "python"
    }
  },
  "nbformat_minor": 4,
  "nbformat": 4,
  "cells": [
    {
      "cell_type": "code",
      "source": "from IPython import display",
      "metadata": {
        "trusted": true
      },
      "execution_count": null,
      "outputs": []
    },
    {
      "cell_type": "markdown",
      "source": "**Python** é uma linguagem fortemente tipada, não consigo fazer uma adição / concatenação entre uma variável inteira e uma string:",
      "metadata": {}
    },
    {
      "cell_type": "code",
      "source": "a = 3\nb = '4'\na + b",
      "metadata": {
        "trusted": true
      },
      "execution_count": null,
      "outputs": []
    },
    {
      "cell_type": "markdown",
      "source": "Já **javascript** não. Usando a função `display.Javascript` conseguimos executar códigos javascript no navegador pelo jupyter, que neste caso, chama a função alert exibindo o resultado da operação a + b em javascript. Qual seu resultado?",
      "metadata": {}
    },
    {
      "cell_type": "code",
      "source": "jscode = '''\nvar a = 3;\nvar b = '4';\nalert(a + b);\n'''\ndisplay.Javascript(jscode)",
      "metadata": {
        "trusted": true
      },
      "execution_count": null,
      "outputs": []
    }
  ]
}