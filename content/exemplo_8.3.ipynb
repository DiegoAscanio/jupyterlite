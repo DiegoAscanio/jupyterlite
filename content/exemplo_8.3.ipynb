{
  "metadata": {
    "kernelspec": {
      "name": "python",
      "display_name": "Python (Pyodide)",
      "language": "python"
    },
    "language_info": {
      "codemirror_mode": {
        "name": "python",
        "version": 3
      },
      "file_extension": ".py",
      "mimetype": "text/x-python",
      "name": "python",
      "nbconvert_exporter": "python",
      "pygments_lexer": "ipython3",
      "version": "3.8"
    }
  },
  "nbformat_minor": 4,
  "nbformat": 4,
  "cells": [
    {
      "cell_type": "code",
      "source": "%pip install sympy\nimport numpy as np\nfrom IPython.display import display, Markdown, Latex\nfrom sympy import *\n\n# determinação dos parâmetros do circuito\nR, L, C = 200, 50e-3, 0.2e-6\n\n# determinacao da tensão inicial do capacitor\nv_0 = 12\n\n# determinação da corrente inicial do indutor\niL_0 = 30e-3\n\n# determinação da corrente inicial do resistor\niR_0 = v_0 / R\n\n# determinação da corrente de deslocamento do capacitor\n# no instante t = 0^+\niC_0 = -iL_0 - iR_0\n\n# determinação da derivada primeira da tensão no instante de tempo t = 0^+\ndv_0dt = iC_0 / C\n\n# definição das funções para cálculo de alpha, omega e consequentemente\n# das raízes características s_1 e s_2 do circuito em função dos parametros\n# RLC do sistema\nalpha = lambda R, C: np.round(1/(2*R*C))\nomega_0 = lambda L, C: np.round(1/np.sqrt(L*C))\ns_1 = lambda R, L, C: np.round(\n    -alpha(R,C) + np.sqrt(\n        np.power(alpha(R,C), 2) - np.power(omega_0(L,C), 2) + 0j\n    )\n)\ns_2 = lambda R, L, C: np.round(\n    -alpha(R,C) - np.sqrt(\n        np.power(alpha(R,C), 2) - np.power(omega_0(L,C), 2) + 0j\n    )\n)\n\n# cálculo das raízes características s_1, s_2 em função de RLC\nS_1, S_2 = np.array([s_1(R, L, C), s_2(R, L, C)])\n\n'''\n    construção do sistema linear\n        v0 = A_1 + A_2\n        v\\'0 = S_1 * A_1 + S_2 * A_2\n    para obtenção das constantes A_1 e A_2\n'''\ncoeficientes = np.array([\n    [1,     1],\n    [S_1, S_2]\n])\ntermos_independentes = np.array([\n    [v_0],\n    [dv_0dt]\n])\n\n# obtenção das constantes A_1 e A_2 pela resolução do sistema linear\n# no numpy\nA_1, A_2 = np.linalg.solve(coeficientes, termos_independentes).ravel()\n\n# definicao de uma variavel simbolica t, necessária para obter\n# a funcao v(t) e posteriormente, a função das correntes\n# do indutor i_L(t) e do resistor i_R(t)\nt = Symbol('t')\n\n# definicao da funcao v(t)\nv = A_1 * exp(S_1 * t) + A_2 * exp(S_2 * t)\n\n# definicao da corrente i_R(t)\niRT = v / 200\n\n# definicao da corrente i_L(t)\niLT = (1/L) * (integrate(v) - integrate(v).subs(t, 0)) + iL_0\n# arredondando os pontos flutuantes em i_L(t)\nfor term in preorder_traversal(iLT):\n    if isinstance(term, Float):\n        iLT = iLT.subs(term, round(term, 3))\n\n# definicao da corrente i_L(t) pela LKC\n# pela LKC, iLTLKC = -iRT - iCT\n# já conhecemos iRT. iCT, a corrente do capacitor no tempo t\n# é C dv/dt. Temos vt\ndvdt = diff(v)\niCT = C * dvdt\niLTLKC = -iRT - iCT\n# arredondando os pontos flutuantes em i_L(t) pela LKC\nfor term in preorder_traversal(iLTLKC):\n    if isinstance(term, Float):\n        iLTLKC = iLTLKC.subs(term, round(term, 3))\n\nmd = '''\n\n![](https://i.imgur.com/23zF3dF.png)\n\n**Solução**\n\nSabemos que a expressão para v(t) é:\n\n\\\\\\\\[\n\\\\begin{{align}}\n    v(t) &= {vt} V, t \\geq 0 \\\\therefore \\\\\\\\\n    v(t) &= ({{{A_1}}} e^{{{S_1} t}} + {{{A_2}}} e^{{{S_2} t}}) V, t \\geq 0\n\\\\end{{align}}\n\\\\\\\\]\n\nonde \\\\\\\\(exp(\\\\chi)\\\\\\\\) representa a função exponencial natural \\\\\\\\(e^{{\\\\chi}}\\\\\\\\)\n\nSabemos também que \n\n\\\\\\\\[\n\\\\begin{{align}}\n    i_{{R}}(t) &= \\\\frac{{v(t)}}{{R}} = \\\\frac{{{vt}}}{{200}} \\\\therefore \\\\\\\\\n    i_{{R}}(t) &= {iRT} \\\\therefore \\\\\\\\\n    i_{{R}}(t) &= (-70 e^{{-5000t}} + 130 e^{{-20000 t}})mA, t \\\\geq 0\n\\\\end{{align}}\n\\\\\\\\]\n\nAgora devemos encontrar a corrente do indutor \\\\\\\\(I_{{L}}\\\\\\\\).\n\nPodemos encontrá-la de duas formas:\n\n1. Pela definição da corrente no indutor que preconiza: \\\\\\\\(i_{{L}}(t) = \\\\frac{{1}}{{L}} \\\\int_{{0}}^{{t}}{{v(\\\\chi) d\\\\chi}} + I_{{0}} \\\\\\\\)\n\n2. Pela determinação da corrente no ramo capacitivo e, por fim, pela lei de kirchoff das correntes que estabelece: \\\\\\\\(i_{{L}}(t) = - i_{{R}}(t) - i_{{C}}(t)\\\\\\\\)\n\nVamos fazer a primeira forma inicialmente para validá-la com a segunda.\n\nA primeira forma é definida nesta célula jupyter pela variável iLT:\n\n\\\\\\\\[\n    i_{{L}}(t) = {iLT}\n\\\\\\\\]\n\nA segunda forma, definida por:\n\n\\\\\\\\[\n\\\\begin{{align}}\n    i_{{L}}(t) &= - i_{{R}}(t) - i_{{C}}(t) \\\\therefore \\\\\\\\\n    i_{{L}}(t) &= - {iRT} - {iCT} \\\\therefore \\\\\\\\\n    i_{{L}}(t) &= {iLTLKC}\n\\\\end{{align}}\n\\\\\\\\]\n\nVerifica a primeira.\n'''.format(\n    A_1 = int(A_1.real),\n    A_2 = int(A_2.real),\n    S_1 = int(S_1.real),\n    S_2 = int(S_2.real),\n    vt = v,\n    iRT = iRT,\n    iLT = iLT,\n    iCT = iCT,\n    iLTLKC = iLTLKC\n)\ndisplay(Markdown(md))",
      "metadata": {
        "trusted": true
      },
      "outputs": [
        {
          "output_type": "display_data",
          "data": {
            "text/plain": "<IPython.core.display.Markdown object>",
            "text/markdown": "\n\n![](https://i.imgur.com/23zF3dF.png)\n\n**Solução**\n\nSabemos que a expressão para v(t) é:\n\n\\\\[\n\\begin{align}\n    v(t) &= 26.0*exp(-20000.0*t) - 14.0*exp(-5000.0*t) V, t \\geq 0 \\therefore \\\\\n    v(t) &= ({-14} e^{-5000 t} + {26} e^{-20000 t}) V, t \\geq 0\n\\end{align}\n\\\\]\n\nonde \\\\(exp(\\chi)\\\\) representa a função exponencial natural \\\\(e^{\\chi}\\\\)\n\nSabemos também que \n\n\\\\[\n\\begin{align}\n    i_{R}(t) &= \\frac{v(t)}{R} = \\frac{26.0*exp(-20000.0*t) - 14.0*exp(-5000.0*t)}{200} \\therefore \\\\\n    i_{R}(t) &= 0.13*exp(-20000.0*t) - 0.07*exp(-5000.0*t) \\therefore \\\\\n    i_{R}(t) &= (-70 e^{-5000t} + 130 e^{-20000 t})mA, t \\geq 0\n\\end{align}\n\\\\]\n\nAgora devemos encontrar a corrente do indutor \\\\(I_{L}\\\\).\n\nPodemos encontrá-la de duas formas:\n\n1. Pela definição da corrente no indutor que preconiza: \\\\(i_{L}(t) = \\frac{1}{L} \\int_{0}^{t}{v(\\chi) d\\chi} + I_{0} \\\\)\n\n2. Pela determinação da corrente no ramo capacitivo e, por fim, pela lei de kirchoff das correntes que estabelece: \\\\(i_{L}(t) = - i_{R}(t) - i_{C}(t)\\\\)\n\nVamos fazer a primeira forma inicialmente para validá-la com a segunda.\n\nA primeira forma é definida nesta célula jupyter pela variável iLT:\n\n\\\\[\n    i_{L}(t) = -0.026*exp(-20000.0*t) + 0.056*exp(-5000.0*t)\n\\\\]\n\nA segunda forma, definida por:\n\n\\\\[\n\\begin{align}\n    i_{L}(t) &= - i_{R}(t) - i_{C}(t) \\therefore \\\\\n    i_{L}(t) &= - 0.13*exp(-20000.0*t) - 0.07*exp(-5000.0*t) - -0.104*exp(-20000.0*t) + 0.014*exp(-5000.0*t) \\therefore \\\\\n    i_{L}(t) &= -0.026*exp(-20000.0*t) + 0.056*exp(-5000.0*t)\n\\end{align}\n\\\\]\n\nVerifica a primeira.\n"
          },
          "metadata": {}
        }
      ],
      "execution_count": 49
    }
  ]
}