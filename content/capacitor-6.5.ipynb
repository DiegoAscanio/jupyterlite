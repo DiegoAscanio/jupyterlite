{
  "metadata": {
    "language_info": {
      "codemirror_mode": {
        "name": "python",
        "version": 3
      },
      "file_extension": ".py",
      "mimetype": "text/x-python",
      "name": "python",
      "nbconvert_exporter": "python",
      "pygments_lexer": "ipython3",
      "version": "3.8"
    },
    "kernelspec": {
      "name": "python",
      "display_name": "Python (Pyodide)",
      "language": "python"
    }
  },
  "nbformat_minor": 4,
  "nbformat": 4,
  "cells": [
    {
      "cell_type": "markdown",
      "source": "A um capacitor descarregado de $0.2 \\mu F$ é aplicado um pulso de corrente de formato triangular. O pulso de corrente é descrito por\n\n$$\ni(t) = \\begin{cases}\n    {0, t \\leq 0s; \\\\\n    5000t A, 0 \\leq t \\leq 20 \\mu s; \\\\\n    0.2 - 5000t A, 20 \\mu s \\leq t \\leq 40 \\mu s; \\\\\n    0, t \\geq 40 \\mu s}\n\\end{cases}\n$$\n\na) Deduza as expressões para a tensão, potência e energia do capacitor.\n\nb) Faça os gráficos de corrente, tensão, potência e energia em função do tempo no capacitor.\n\nc) Porquê continua a existir tensão no capacitor após a corrente voltar a $0$?\n\n---\n\na)\n\nExpressões para tensão:\n\n$ V(t) = {\\frac {1}{C}} \\int_{t_{0}}^{t}{i dt} + V(t_{0}) $\n\n$$\nV(t) = \\begin{cases}\n    {0, t \\leq 0s; \\\\\n     {12.5 \\times 10^{9} t^{2} V}, 0 \\leq t \\leq 20 \\mu s; \\\\\n     (10^{6} t - 12.5 \\times 10^{9} t^{2} - 10)V, 20 \\mu s \\leq t \\leq 40 \\mu s; \\\\\n     10V, t \\geq 40 \\mu s}\n\\end{cases}\n$$\n\nDedução para $0 \\leq t \\leq 20 \\mu s$:\n\n$$\nV(t) = {{1} \\over {0.2 \\times 10^{-6}F}} \\int_{0}^{t} {5000 t dt} + V(0) \\rightarrow \\\\\n5 \\times 10^{6} \\left[ 5000 \\times {{t^{2}} \\over {2}} - 0 \\right] = {12.5 \\times 10^{9} t^{2} V}\n$$\n\nDedução para $20 \\mu s \\leq t \\leq 40 \\mu s$:\n\n$$\nV(t) = {{1} \\over {0.2 \\times 10^{-6}F}} \\int_{20 \\mu s}^{t} {(0.2 - 5000 t) dt} + V(20 \\mu s) \\rightarrow \\\\\n{{1} \\over {0.2 \\times 10^{-6}F}} \\left[ {0.2t - 2500t^{2} - \\left[ {2500(20 \\times 10^{-6})^{2}} \\right] } \\right] + 5 = (10^{6} t - 12.5 \\times 10^{9} t^{2} - 10)V\n$$\n\nDedução para $t \\geq 40 \\mu s$:\n\n$$\ni(t) = 0, t \\geq 40 \\mu s; \\\\\nV(t) = {{1} \\over {0.2 \\times {10^{-6}F}}} \\int_{40 \\mu s}^{t} {i(t) dt} + V(40 \\mu s) \\rightarrow \\\\\n\\text{Como i(t) = 0, } t \\geq 40 \\mu s \\text{, logo: } V(t) = V(40 \\mu s) = 10V, t \\geq 40 \\mu s\n$$\n\nExpressões para potência:\n\n$ p = v i $\n\n$$\np(t) = \\begin{cases}\n    {0W, t \\leq 0s; \\\\\n     62.5 \\times {10^{12} t^{3}} W, 0s \\leq t \\leq 20 \\mu s; \\\\\n     (62.5 \\times {10^{12} t^{3}} - {7.5 \\times 10^{9} t^2} + {2.5 \\times 10^{5} t} - 2 ) W, 20 \\mu s \\leq t \\leq 40 \\mu s; \\\\\n     0 W, t \\geq 40 \\mu s}   \n\\end{cases}\n$$\n\nExpressões para energia:\n\n$ W = \\int{p dt} = {{1} \\over {2}} C v^{2}$\n\n$$\nW(t) = \\begin{cases}{\n    0, t \\leq 0s; \\\\\n    15.625 \\times {10^{12}t^{4}J}, 0s \\leq t \\leq 20 \\mu s; \\\\\n    (15.625 \\times {10^{12}t^{4}} - 2.5 \\times {10^{9}t^{3}} + 0.125 \\times {10^{6}t^{2}} - 2t + 10^{-5})J, 20 \\mu s \\leq t \\leq 40 \\mu s; \\\\\n    10 \\mu J, t \\geq 40 \\mu s\n}\n\\end{cases}\n$$\n\nb)\n\n## i, v, p e w no tempo",
      "metadata": {}
    },
    {
      "cell_type": "code",
      "source": "import numpy as np\nimport matplotlib.pyplot as plt\nfrom sympy import *\n\ni = np.vectorize(\n    lambda t: 0 if t < 0 else 5000*t if t >= 0 and t <= 20e-6 else 0.2 - 5000*t if t >= 20e-6 and t <= 40e-6 else 0\n)\nt = np.linspace(0, 60e-6, 601)\nplt.title('Corrente no capacitor ao longo do tempo')\nplt.plot(t, i(t))\nplt.show()\n\nv = np.vectorize(\n    lambda t: 0 if t < 0 else 12.5e9*t**2 if t >= 0 and t <= 20e-6 else 1e6*t - 12.5e9*t**2 - 10 if t >= 20e-6 and t <= 40e-6 else 10\n)\nplt.title('Tensão no capacitor ao longo do tempo')\nplt.plot(t, v(t))\nplt.show()\n\np = np.vectorize(\n    lambda t: 0 if t < 0 else 62.5e12*t**3 if t >= 0 and t <= 20e-6 else 62.5e12*t**3 - 7.5e9*t**2 + 2.5e5*t - 2 if t >= 20e-6 and t <= 40e-6 else 0\n)\nplt.title('Potência do capacitor ao longo do tempo')\nplt.plot(t, p(t))\nplt.show()\n\nw = np.vectorize(\n    lambda t: 0 if t < 0 else 15.625e12*t**4 if t >= 0 and t <= 20e-6 else 15.625e12*t**4 - 2.5e9*t**3 + 0.125e6*t**2 - 2*t + 1e-5 if t >= 20e-6 and t <= 40e-6 else 10e-6\n)\nplt.title('Energia do capacitor ao longo do tempo')\nplt.plot(t, w(t))\nplt.show()",
      "metadata": {
        "trusted": true
      },
      "execution_count": null,
      "outputs": []
    },
    {
      "cell_type": "markdown",
      "source": "c)\n\nPorque quando a corrente volta a zero, existe energia armazenada no capacitor e o capacitor ideal não oferece nenhum meio para dissipar esta energia. Assim, a tensão permanece nos terminais do capacitor após $i$ retornar a zero.",
      "metadata": {}
    }
  ]
}