{
  "metadata": {
    "language_info": {
      "codemirror_mode": {
        "name": "python",
        "version": 3
      },
      "file_extension": ".py",
      "mimetype": "text/x-python",
      "name": "python",
      "nbconvert_exporter": "python",
      "pygments_lexer": "ipython3",
      "version": "3.8"
    },
    "kernelspec": {
      "name": "python",
      "display_name": "Python (Pyodide)",
      "language": "python"
    }
  },
  "nbformat_minor": 4,
  "nbformat": 4,
  "cells": [
    {
      "cell_type": "markdown",
      "source": "# Passo 6 - Construção de um sistema de equações lineares e resolução deste sistema\n\n<img src=\"https://i.imgur.com/GibqC6j.png\" style=\"width: 450px; display: block; margin-left: auto; margin-right: auto;\">\n\n| Nó  |        Correntes que entram         |     Correntes que saem     |                            LKC com correntes<br/>em função das tensões nodais<br/>(Quando Aplicável)                            |\n| :-: | :---------------------------------: | :------------------------: | :-----------------------------------------------------------------------------------------------------------------------------: |\n|  β  | \\\\( 2A, i_1, i_3 \\text{ e } i_4 \\\\) | \\\\( i_2 \\\\) |\\\\( 2 - \\frac{V_{\\beta}}{4} + \\frac{V_{\\gamma} - V_{\\beta}}{6} + \\frac{5 - V_{\\beta}}{7} = \\frac{V_{\\beta} - V_{\\gamma}}{3} \\\\)|\n|  γ  |             \\\\( i_2 \\\\)             | \\\\( i_3 \\text{ e } i_5 \\\\) |             \\\\( \\frac{V_{\\beta} - V_{\\gamma}}{3} = \\frac{V_{\\gamma} - V_{\\beta}}{6} + \\frac{V_{\\gamma} + 4}{8} \\\\)             |\n\n## Encontrando o MMC dos denominadores das equações através do MDC pelo algoritmo de euclides e pela multiplicação dos denominadores por tal MDC",
      "metadata": {}
    },
    {
      "cell_type": "code",
      "source": "from functools import reduce\nfrom IPython.display import Markdown\nimport numpy as np\ndef mdc(n1, n2):\n    while n2 != 0:\n        aux = n1\n        n1 = n2\n        n2 = aux % n2\n    return n1\ndef mmc(n1, n2):\n    return int(n1 * n2 / mdc(n1, n2))",
      "metadata": {
        "trusted": true
      },
      "execution_count": 41,
      "outputs": []
    },
    {
      "cell_type": "markdown",
      "source": "## Operando na equação do nó β",
      "metadata": {}
    },
    {
      "cell_type": "code",
      "source": "denominadores = [1, 4, 6, 7, 3]\nMMC = reduce(mmc, denominadores)\ndisplay(\n    Markdown(\n        'O Mínimo múltiplo comum é \\\\\\\\( {MMC:d} \\\\\\\\)'.format(MMC = MMC)\n    )\n)",
      "metadata": {
        "trusted": true
      },
      "execution_count": 57,
      "outputs": [
        {
          "output_type": "display_data",
          "data": {
            "text/plain": "<IPython.core.display.Markdown object>",
            "text/markdown": "O Mínimo múltiplo comum é \\\\( 84 \\\\)"
          },
          "metadata": {}
        }
      ]
    },
    {
      "cell_type": "markdown",
      "source": "Multiplicando todos os termos da equação \\\\( 2 - \\frac{V_{\\beta}}{4} + \\frac{V_{\\gamma} - V_{\\beta}}{6} + \\frac{5 - V_{\\beta}}{7} = \\frac{V_{\\beta} - V_{\\gamma}}{3} \\\\) por \\\\(84\\\\) e passando os termos independentes para a direita e os dependentes para a esquerda:",
      "metadata": {}
    },
    {
      "cell_type": "code",
      "source": "equacao = '''\\\\\\\\(\n    {0:d} - {1:d} V_{{\\\\beta}} + {2:d} V_{{\\\\gamma}} - {2:d} V_{{\\\\beta}} + {8:d} - {3:d} V_{{\\\\beta}} = {4:d} V_{{\\\\beta}} - {4:d} V_{{\\\\gamma}}\n    \\\\therefore \\\\\\\\\n    - {1:d} V_{{\\\\beta}} + {2:d} V_{{\\\\gamma}} - {2:d} V_{{\\\\beta}} - {3:d} V_{{\\\\beta}} - {4:d} V_{{\\\\beta}} + {4:d} V_{{\\\\gamma}} = -{0:d} - {8:d}\n    \\\\therefore \\\\\\\\\n    - {5:d} V_{{\\\\beta}} + {6:d} V_{{\\\\gamma}} = - {7:d}\n    \\\\therefore \\\\\\\\\n    {5:d} V_{{\\\\beta}} - {6:d} V_{{\\\\gamma}} = {7:d}\n    \\\\\\\\)'''.format(\n    2*84,\n    84//4,\n    84//6,\n    84//7,\n    84//3,\n    21 + 14 + 12 + 28,\n    14 + 28,\n    168 + 5 * 84//7,\n    5 * 84//7\n)\ndisplay(\n    Markdown(\n        equacao\n    )\n)",
      "metadata": {
        "trusted": true
      },
      "execution_count": 58,
      "outputs": [
        {
          "output_type": "display_data",
          "data": {
            "text/plain": "<IPython.core.display.Markdown object>",
            "text/markdown": "\\\\(\n    168 - 21 V_{\\beta} + 14 V_{\\gamma} - 14 V_{\\beta} + 60 - 12 V_{\\beta} = 28 V_{\\beta} - 28 V_{\\gamma}\n    \\therefore \\\\\n    - 21 V_{\\beta} + 14 V_{\\gamma} - 14 V_{\\beta} - 12 V_{\\beta} - 28 V_{\\beta} + 28 V_{\\gamma} = -168 - 60\n    \\therefore \\\\\n    - 75 V_{\\beta} + 42 V_{\\gamma} = - 228\n    \\therefore \\\\\n    75 V_{\\beta} - 42 V_{\\gamma} = 228\n    \\\\)"
          },
          "metadata": {}
        }
      ]
    },
    {
      "cell_type": "markdown",
      "source": "## Operando na equação do nó γ",
      "metadata": {}
    },
    {
      "cell_type": "code",
      "source": "denominadores = [3, 6, 8]\nMMC = reduce(mmc, denominadores)\ndisplay(\n    Markdown(\n        'O Mínimo múltiplo comum é \\\\\\\\( {MMC:d} \\\\\\\\)'.format(MMC = MMC)\n    )\n)",
      "metadata": {
        "trusted": true
      },
      "execution_count": 59,
      "outputs": [
        {
          "output_type": "display_data",
          "data": {
            "text/plain": "<IPython.core.display.Markdown object>",
            "text/markdown": "O Mínimo múltiplo comum é \\\\( 24 \\\\)"
          },
          "metadata": {}
        }
      ]
    },
    {
      "cell_type": "markdown",
      "source": "Multiplicando todos os termos da equação \\\\( \\frac{V_{\\beta} - V_{\\gamma}}{3} = \\frac{V_{\\gamma} - V_{\\beta}}{6} + \\frac{V_{\\gamma} + 4}{8} \\\\) por \\\\(24\\\\) e passando os termos independentes para a direita e os dependentes para a esquerda:",
      "metadata": {}
    },
    {
      "cell_type": "code",
      "source": "equacao = '''\\\\\\\\(\n    {0:d} V_{{\\\\beta}} - {0:d} V_{{\\\\gamma}} = {1:d} V_{{\\\\gamma}} - {1:d} V_{{\\\\beta}} + {2:d} V_{{\\\\gamma}} + {3:d}\n    \\\\therefore \\\\\\\\\n    {0:d} V_{{\\\\beta}} - {0:d} V_{{\\\\gamma}} - {1:d} V_{{\\\\gamma}} + {1:d} V_{{\\\\beta}} - {2:d} V_{{\\\\gamma}} = {3:d}\n    \\\\therefore \\\\\\\\\n    {4:d} V_{{\\\\beta}} - {5:d} V_{{\\\\gamma}} = {3:d}\n    \\\\\\\\)'''.format(\n    24//3,\n    24//6,\n    24//8,\n    24*4//8,\n    24//3 + 24//6,\n    24//3 + 24//6 + 24//8\n)\ndisplay(\n    Markdown(\n        equacao\n    )\n)",
      "metadata": {
        "trusted": true
      },
      "execution_count": 60,
      "outputs": [
        {
          "output_type": "display_data",
          "data": {
            "text/plain": "<IPython.core.display.Markdown object>",
            "text/markdown": "\\\\(\n    8 V_{\\beta} - 8 V_{\\gamma} = 4 V_{\\gamma} - 4 V_{\\beta} + 3 V_{\\gamma} + 12\n    \\therefore \\\\\n    8 V_{\\beta} - 8 V_{\\gamma} - 4 V_{\\gamma} + 4 V_{\\beta} - 3 V_{\\gamma} = 12\n    \\therefore \\\\\n    12 V_{\\beta} - 15 V_{\\gamma} = 12\n    \\\\)"
          },
          "metadata": {}
        }
      ]
    },
    {
      "cell_type": "markdown",
      "source": "Temos portanto duas equações para o sistema com duas variáveis desconhecidas:\n\n\\\\(\n    \\left\\{\n    \\begin{array}{l}\n        75 V_{\\beta} - 42 V_{\\gamma} = 228 \\\\\n        12 V_{\\beta} - 15 V_{\\gamma} = 12\n    \\end{array}\n    \\right.\n\\\\)\n\nColocando o sistema em sua forma matricial:\n\n\\\\(\n    \\begin{bmatrix}\n        75 & -42 \\\\\n        12 & -15\n    \\end{bmatrix} \\cdot\n    \\begin{bmatrix}\n        V_{\\beta} \\\\\n        V_{\\gamma}\n    \\end{bmatrix} =\n    \\begin{bmatrix}\n        228 \\\\\n        12\n    \\end{bmatrix}\n\\\\)\n\nResolvendo o sistema no numpy:",
      "metadata": {}
    },
    {
      "cell_type": "code",
      "source": "A = np.array([\n    [75, -42],\n    [12, -15]\n])\n\nB = np.array([\n    [228],\n    [12]\n])\n\nV_beta, V_gamma = np.linalg.solve(A, B).ravel()\n\nresultado = '''\\\\\\\\(\n    V_{{\\\\beta}} = {0:.2f}, \\\\\\\\\n    V_{{\\\\gamma}} = {1:.2f}\n    \\\\\\\\)'''.format(\n    V_beta,\n    V_gamma\n)\ndisplay(\n    Markdown(\n        resultado\n    )\n)",
      "metadata": {
        "trusted": true
      },
      "execution_count": 61,
      "outputs": [
        {
          "output_type": "display_data",
          "data": {
            "text/plain": "<IPython.core.display.Markdown object>",
            "text/markdown": "\\\\(\n    V_{\\beta} = 4.70, \\\\\n    V_{\\gamma} = 2.96\n    \\\\)"
          },
          "metadata": {}
        }
      ]
    }
  ]
}