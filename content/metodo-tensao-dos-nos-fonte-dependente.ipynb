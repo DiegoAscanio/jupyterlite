{
  "metadata": {
    "language_info": {
      "codemirror_mode": {
        "name": "python",
        "version": 3
      },
      "file_extension": ".py",
      "mimetype": "text/x-python",
      "name": "python",
      "nbconvert_exporter": "python",
      "pygments_lexer": "ipython3",
      "version": "3.8"
    },
    "kernelspec": {
      "name": "python",
      "display_name": "Python (Pyodide)",
      "language": "python"
    }
  },
  "nbformat_minor": 4,
  "nbformat": 4,
  "cells": [
    {
      "cell_type": "markdown",
      "source": "<img src=\"https://i.imgur.com/ooVsvJk.png\" style=\"display: block; margin-left: auto; margin-right: auto\">\n\n# Método das tensões dos nós em circuitos com fontes dependentes\n\nConsiderando o circuito acima, descubra a corrente I que passa no resistor \\\\(R_3 = 10 \\Omega\\\\) através do método das tensões dos nós.\n\n## Algoritmo do método da tensão dos nós:\n\n1. Identificar todos os nós do circuito atribuindo nomes (letras latinas, gregas, etc) a cada um deles;\n2. Escolher um nó de referência;\n    - Uma boa escolha de nó de referência é aquele que permite calcular de imediato a tensão nodal de outro nó — exemplo, um nó que esteja ligado ao terminal de uma fonte de tensão — ou na ausência de tal nó, um nó que esteja ligado ao maior número de elementos possíveis do circuito;\n        - Escolher um nó de referência que permita encontrar de imediato a tensão nodal de outro(s) nó(s) reduz o número de equações a serem resolvidas;\n3. Atribuir tensões a todos os outros nós em relação ao nó de referência;\n    - Se forem nós cujos caminhos ao nó de referência possuam apenas fontes de tensão, a tensão é conhecida e deve ser atribuída como tensão do nó o valor da(s) fonte(s) de tensão conhecidas;\n    - Senão, atribuir uma variável de tensão ao nó — exemplo: \\\\(V_k\\\\) para o nó de nome \\\\(k\\\\);\n4. Atribuir correntes (sentidos arbitrários) para todos os elementos do circuito (fontes e resistores, por hora) e quando possível, escrever tais correntes em função das tensões que entram e que saem destes elementos (apenas nos resistores no caso) a partir da lei de Ohm que especifica que:\n\n\\\\[\n    i_\\text{ab} = \\frac{v_\\text{ab}}{R} = \\frac{v_\\text{a} - v_\\text{b}}{R}\n\\\\]\n\n5. Para cada um dos nós cujas tensões sejam desconhecidas:\n    - Escrever a LKC para o nó em questão, considerando as correntes que entram e que saem do nó em função das tensões nodais desconhecidas, quando aplicável, e em função das correntes oriundas de fontes de corrente e das correntes oriundas de fontes de tensão, também quando aplicável.\n6. Construir um sistema de equações lineares a partir das equações de LKC escritas para cada nó desconhecido e resolver tal sistema para encontrar as tensões nodais desconhecidas, resolvendo desta forma o circuito.",
      "metadata": {}
    },
    {
      "cell_type": "markdown",
      "source": "## Passo 1 - Identificação dos nós\n\n<img src=\"https://i.imgur.com/DGfcssm.png\" style=\"display: block; margin-left: auto; margin-right: auto\">\n\nNós identificados:\n\n1. \\\\(\\alpha\\\\) (alpha)\n2. \\\\(\\beta\\\\) (beta)\n3. \\\\(\\gamma\\\\) (gamma)\n4. \\\\(\\delta\\\\) (delta)\n5. \\\\(\\epsilon\\\\) (epsilon)\n6. \\\\(\\zeta\\\\) (zeta) = \\\\(\\beta\\\\) (beta)\n\nPor um descuido do professor ao montar o circuito, o nó zeta \\\\((\\zeta)\\\\) é o mesmo nó do nó \\\\(\\beta\\\\) (beta). Portanto, consideramos apenas 5 nós ok pessoal?",
      "metadata": {}
    },
    {
      "cell_type": "markdown",
      "source": "## Passo 2 - Escolher um nó de referência;\n\nUma boa escolha de nó de referência é aquele que permite calcular de imediato a tensão nodal de outro nó — exemplo, um nó que esteja ligado ao terminal de uma fonte de tensão — ou na ausência de tal nó, um nó que esteja ligado ao maior número de elementos possíveis do circuito;\n    - Escolher um nó de referência que permita encontrar de imediato a tensão nodal de outro(s) nó(s) reduz o número de equações a serem resolvidas;\n    \nNo exemplo presente se escolhermos nó \\\\(\\alpha\\\\) como referência, encontramos de imediato \\\\(V_\\beta = 150V\\\\). Portanto, conectamos o nó \\\\(\\alpha\\\\) ao terra:\n\n<img src=\"https://i.imgur.com/vTH4hGO.png\" style=\"display: block; margin-left: auto; margin-right: auto\">",
      "metadata": {}
    },
    {
      "cell_type": "markdown",
      "source": "## Passo 3 - Atribuir tensões a todos os outros nós em relação ao nó de referência;\n- Se forem nós cujos caminhos ao nó de referência possuam apenas fontes de tensão, a tensão é conhecida e deve ser atribuída como tensão do nó o valor da(s) fonte(s) de tensão conhecidas;\n- Senão, atribuir uma variável de tensão ao nó — exemplo: \\\\(V_k\\\\) para o nó de nome \\\\(k\\\\);\n\n<img src=\"https://i.imgur.com/vTH4hGO.png\" style=\"display: block; margin-left: auto; margin-right: auto\">\n\n1. \\\\(V_\\alpha = 0V\\\\)\n2. \\\\(V_\\beta = V_\\zeta = 150V\\\\)\n3. \\\\(V_\\gamma\\\\)\n4. \\\\(V_\\delta\\\\)\n5. \\\\(V_\\epsilon\\\\)\n6. \\\\(V_\\zeta = V_\\beta \\\\)",
      "metadata": {}
    },
    {
      "cell_type": "markdown",
      "source": "## Passo 4\n\nAtribuir correntes (sentidos arbitrários) para todos os elementos do circuito (fontes e resistores, por hora) e quando possível, escrever tais correntes em função das tensões que entram e que saem destes elementos (apenas nos resistores no caso) a partir da lei de Ohm que especifica que:\n\n\\\\[\n    i_\\text{ab} = \\frac{v_\\text{ab}}{R} = \\frac{v_\\text{a} - v_\\text{b}}{R}\n\\\\]\n\n<img src=\"https://i.imgur.com/o1IPNrq.png\" style=\"display: block; margin-left: auto; margin-right: auto\">\n\nComo pode ser observado, as correntes \\\\(i_1 \\ldots i_7\\\\) representam as correntes dos ramos (caminhos entre nós) onde estão localizados os resistores \\\\(R_1 \\ldots R_7\\\\) e as correntes \\\\(i_8\\\\) e \\\\(i_9\\\\) representam as correntes das fontes de tensão \\\\(E_3\\\\) e \\\\(E_2\\\\), respectivamente.\n\nEscrevendo quando possível as correntes em função de suas tensões nodais de entrada e de saída sobre o valor da resistência em que passam, de acordo com a lei de Ohm:\n\n\\\\[\n\\begin{align*}\n    i_1 &= \\frac{V_\\epsilon + 120V - V_\\alpha}{600 \\Omega} = \\frac{V_\\epsilon + 120V}{600 \\Omega} \\\\\n    i_2 &= \\frac{V_\\beta - V_\\alpha}{17 \\Omega} = \\frac{V_\\beta}{17 \\Omega} = \\frac{150}{17 \\Omega} = 8.82A \\\\\n    I = i_3 &= \\frac{V_\\beta - V_\\epsilon}{10 \\Omega} = \\frac{150V - V_\\epsilon}{10 \\Omega} \\\\\n    i_4 &= \\frac{V_\\epsilon - V_\\gamma}{60 \\Omega} \\\\\n    i_5 &= \\frac{V_\\gamma - V_\\delta}{5 \\Omega} \\\\\n    i_6 &= \\frac{V_\\delta - V_\\beta}{100 \\Omega} = \\frac{V_\\delta - 150V}{100 \\Omega} \\\\\n    i_7 &= \\frac{V_\\gamma - V_\\beta}{8 \\Omega} = \\frac{V_\\gamma - 150V}{8 \\Omega}\n\\end{align*}\n\\\\]\n\n\\\\(i_8\\\\), a corrente da fonte \\\\(E_3\\\\), não pode ser escrita como uma representação da lei de Ohm no momento.",
      "metadata": {}
    },
    {
      "cell_type": "markdown",
      "source": "## Passo 5\n\nPara cada um dos nós cujas tensões sejam desconhecidas:\n\n- Escrever a LKC para o nó em questão, considerando as correntes que entram e que saem do nó em função das tensões nodais desconhecidas, quando aplicável, e em função das correntes oriundas de fontes de corrente e das correntes oriundas de fontes de tensão, também quando aplicável.\n\nNós de tensões desconhecidas: \\\\((\\gamma, \\delta, \\text{ e } \\epsilon)\\\\)\n\n### LKC no nó \\\\(\\gamma\\\\):\n\nEntram: \\\\(i_5, i_4\\\\)\nSaem: \\\\(i_7\\\\)\n\nAssim: \\\\(i_5 + i_4 = i_7\\\\).\n\nEm função das tensões nodais:\n\n\\\\[\n\\begin{align*}\n    & \\frac{V_\\gamma - V_\\delta}{5 \\Omega} + \\frac{V_\\epsilon - V_\\gamma}{60 \\Omega} = \\frac{V_\\gamma - 150V}{8 \\Omega}\n\\end{align*}\n\\\\]\n\nCalculando o MMC entre os denominadores da equação:",
      "metadata": {}
    },
    {
      "cell_type": "code",
      "source": "from functools import reduce\nfrom IPython.display import Markdown\n\nmdc = lambda m, n: n if m == 0 else mdc(n % m, m)\nmmc = lambda m, n: (m * n) // mdc(m, n)\n\ndenominadores = [5, 60, 8]\nMMC = reduce(mmc, denominadores)\n\nresult = 'O MMC entre {denominadores} é: {MMC}'.format(\n    denominadores = ', '.join(\n        map(\n            lambda x: str(x), denominadores\n        )\n    ),\n    MMC = MMC\n)\n\ndisplay(\n    Markdown(\n        result\n    )\n)",
      "metadata": {
        "trusted": true
      },
      "execution_count": null,
      "outputs": []
    },
    {
      "cell_type": "markdown",
      "source": "Multiplicando ambos os lados da equação do nó \\\\(\\gamma\\\\) por \\\\(120\\\\) e reagrupando variáveis à esquerda e termos independentes à direita:",
      "metadata": {}
    },
    {
      "cell_type": "code",
      "source": "equacao = '''\\\\\\\\[\n\\\\begin{{align*}}\n    & \\\\frac{{V_\\\\gamma - V_\\\\delta}}{{5 \\\\Omega}} + \\\\frac{{V_\\\\epsilon - V_\\\\gamma}}{{60 \\\\Omega}} &= \\\\frac{{V_\\\\gamma - 150V}}{{8 \\\\Omega}} \\\\therefore \\\\\\\\\n    & {coef_gamma_0_0} V_\\\\gamma - {coef_delta_0_0} V_\\\\delta + {coef_epsilon_0_0} V_\\\\epsilon - {coef_gamma_0_1} V_\\\\gamma - {coef_gamma_0_2} V_\\\\gamma &= - {coef_independente_1} \\\\\\\\\n\\\\end{{align*}}\n\\\\\\\\]'''.format(\n    coef_gamma_0_0  = 120 // 5,\n    coef_delta_0_0 = 120 // 5,\n    coef_epsilon_0_0 = 120 // 60,\n    coef_gamma_0_1 = 120 // 60,\n    coef_gamma_0_2 = 120 // 8,\n    coef_independente_0 = 120 // 8,\n    coef_independente_1 = 150 * 120 // 8,\n)\ndisplay(\n    Markdown(\n        equacao\n    )\n)",
      "metadata": {
        "trusted": true
      },
      "execution_count": null,
      "outputs": []
    },
    {
      "cell_type": "markdown",
      "source": "Multiplicando \\\\(24 V_\\gamma - 24 V_\\delta + 2 V_\\epsilon - 2 V_\\gamma - 15 V_\\gamma = - 2250\\\\) por \\\\(-1\\\\):\n\n\\\\(-24 V_\\gamma + 24 V_\\delta - 2 V_\\epsilon + 2 V_\\gamma + 15 V_\\gamma = 2250\\\\)\n\nDa análise do circuito, sei que \\\\(V_\\delta - V_\\epsilon = 70V\\\\). \n\nReescrevendo \\\\(-24 V_\\gamma + 24 V_\\delta - 2 V_\\epsilon + 2 V_\\gamma + 15 V_\\gamma = 2250\\\\), pela conveniência de eliminar \\\\(V_\\epsilon\\\\), como:\n\n\\\\[\n    -24 V_\\gamma + 22 V_\\delta + 2(V_\\delta - V_\\epsilon) + 2 V_\\gamma + 15 V_\\gamma = 2250 \\rightarrow \\\\\n    -24 V_\\gamma + 22 V_\\delta + 2 \\times 70 + 2 V_\\gamma + 15 V_\\gamma = 2250 \\rightarrow \\\\\n    -24 V_\\gamma + 22 V_\\delta + 140 + 2 V_\\gamma + 15 V_\\gamma = 2250 \\rightarrow \\\\\n    -24 V_\\gamma + 22 V_\\delta + 2 V_\\gamma + 15 V_\\gamma = 2110 \\rightarrow \\\\\n    -22 V_\\gamma + 22 V_\\delta + 15 V_\\gamma = 2110 \\rightarrow \\\\\n    -7 V_\\gamma + 22 V_\\delta = 2110 \\rightarrow \\\\\n    7 V_\\gamma - 22 V_\\delta = -2110\n\\\\]\n\nE chegamos assim na LKC no nó \\\\(\\gamma\\\\) como:\n\n\\\\[\n7 V_\\gamma - 22 V_\\delta = -2110\n\\\\]",
      "metadata": {}
    },
    {
      "cell_type": "markdown",
      "source": "### LKC no nó \\\\(\\delta\\\\):\n\nEntram: \\\\(i_8\\\\)\nSaem: \\\\(i_5, i_6\\\\)\n\nAssim: \\\\(i_8 = i_5 + i_6\\\\). \n\nEm função das tensões nodais:\n\n\\\\[\n    i_8 = \\frac{V_\\gamma - V_\\delta}{5 \\Omega} + \\frac{V_\\delta - 150V}{100 \\Omega}\n\\\\]\n\nCalculando o MMC entre os denominadores da equação:",
      "metadata": {}
    },
    {
      "cell_type": "code",
      "source": "denominadores = [5, 100]\nMMC = reduce(mmc, denominadores)\n\nresult = 'O MMC entre {denominadores} é: {MMC}'.format(\n    denominadores = ', '.join(\n        map(\n            lambda x: str(x), denominadores\n        )\n    ),\n    MMC = MMC\n)\ndisplay(\n    Markdown(\n        result\n    )\n)",
      "metadata": {
        "trusted": true
      },
      "execution_count": null,
      "outputs": []
    },
    {
      "cell_type": "markdown",
      "source": "Multiplicando ambos os lados da equação do nó \\\\(\\delta\\\\) por \\\\(100\\\\) e reagrupando variáveis à esquerda e termos independentes à direita:",
      "metadata": {}
    },
    {
      "cell_type": "code",
      "source": "equacao = '''\\\\\\\\[\n\\\\begin{{align*}}\n    & {coef_i_8_0} i_8 = {coef_gamma_0_0} V_\\\\gamma - {coef_delta_0_0} V_\\\\delta + {coef_delta_0_1} V_\\\\delta - {coef_independente_0} \\\\therefore \\\\\\\\\n    & {coef_i_8_0} i_8 - {coef_gamma_0_0} V_\\\\gamma + {coef_delta_0_0} V_\\\\delta - {coef_delta_0_1} V_\\\\delta = - {coef_independente_0} \\\\therefore \\\\\\\\\n    & [ {coef_i_8_0} i_8 - {coef_gamma_0_0} V_\\\\gamma + {coef_delta_0_0} V_\\\\delta - {coef_delta_0_1} V_\\\\delta ] \\\\times (-1) = [- {coef_independente_0}] \\\\times (-1) \\\\therefore \\\\\\\\\n    & {coef_gamma_0_0} V_\\\\gamma - {coef_delta_1} V_\\\\delta - {coef_i_8_0} i_8 = {coef_independente_0}\n\\\\end{{align*}}\n\\\\\\\\]'''.format(\n    coef_i_8_0 = 100 // 1,\n    coef_gamma_0_0  = 100 // 5,\n    coef_delta_0_0 = 100 // 5,\n    coef_delta_0_1 = 100 // 100,\n    coef_independente_0 = 150 * 100 // 100,\n    coef_delta_1 = 100 // 5 - 100//100,\n)\ndisplay(\n    Markdown(\n        equacao\n    )\n)",
      "metadata": {
        "trusted": true
      },
      "execution_count": null,
      "outputs": []
    },
    {
      "cell_type": "markdown",
      "source": "E chegamos assim na LKC no nó \\\\(\\delta\\\\) como:\n\n\\\\[\n    20 V_\\gamma - 19 V_\\delta - 100 i_8 = 150\n\\\\]",
      "metadata": {}
    },
    {
      "cell_type": "markdown",
      "source": "### LKC no nó \\\\(\\epsilon\\\\):\n\nEntram: \\\\(i_3\\\\)\n\nSaem: \\\\(i_1, 4 i_3, i_4 \\text{ e } i_8\\\\)\n\nAssim: \\\\(i_3 = i_1 + 4 i_3 + i_4 + i_8 \\therefore \\\\\ni_1 + 3 i_3 + i_4 + i_8 = 0\n\\\\). \n\nEm função das tensões nodais:\n\n\\\\[\n\\begin{align*}\n    & \\frac{V_\\epsilon + 120V}{600 \\Omega} + 3 \\times \\left(\\frac{150V - V_\\epsilon}{10 \\Omega}\\right) + \\frac{V_\\epsilon - V_\\gamma}{60 \\Omega} + i_8 = 0\n\\end{align*}\n\\\\]\n\nOlhando para o circuito sabemos que \\\\[\\left.{V_\\delta - V_\\epsilon = 70V \\therefore \\\\ V_\\epsilon = V_\\delta - 70 } \\right.\\\\]\n\nSubstituindo \\\\(V_\\epsilon = V_\\delta - 70V \\\\) na equação de LKC no nó \\\\(\\epsilon\\\\), voltamos às três variáveis até então desconhecidas e temos informação suficiente para resolver o sistema.\n\n\\\\[\n\\begin{align*}\n    & \\frac{V_\\delta - 70V + 120V}{600 \\Omega} + 3 \\times \\left(\\frac{150V - V_\\delta + 70V}{10 \\Omega}\\right) + \\frac{V_\\delta - 70V - V_\\gamma}{60 \\Omega} + i_8 = 0 \\therefore \\\\\n    & \\frac{V_\\delta - 70V + 120V}{600 \\Omega} + \\left(\\frac{450V - 3 V_\\delta + 210}{10 \\Omega}\\right) + \\frac{V_\\delta - 70V - V_\\gamma}{60 \\Omega} + i_8 = 0 \\therefore \\\\\n    & \\frac{V_\\delta + 50V}{600 \\Omega} + \\left(\\frac{660V - 3 V_\\delta}{10 \\Omega}\\right) + \\frac{V_\\delta - V_\\gamma - 70V}{60 \\Omega} + i_8 = 0 \\therefore \\\\\n\\end{align*}\n\\\\]\n\nCalculando o MMC entre os denominadores da equação:",
      "metadata": {}
    },
    {
      "cell_type": "code",
      "source": "denominadores = [10, 60, 600]\nMMC = reduce(mmc, denominadores)\n\nresult = 'O MMC entre {denominadores} é: {MMC}'.format(\n    denominadores = ', '.join(\n        map(\n            lambda x: str(x), denominadores\n        )\n    ),\n    MMC = MMC\n)\ndisplay(\n    Markdown(\n        result\n    )\n)",
      "metadata": {
        "trusted": true
      },
      "execution_count": null,
      "outputs": []
    },
    {
      "cell_type": "markdown",
      "source": "Multiplicando ambos os lados da equação do nó \\\\(\\epsilon\\\\) por \\\\(600\\\\) e reagrupando variáveis à esquerda e termos independentes à direita:",
      "metadata": {}
    },
    {
      "cell_type": "code",
      "source": "equacao = '''\\\\\\\\[\n\\\\begin{{align*}}\n    & {coef_v_delta_0_0} V_\\\\delta + {coef_independente_0_0} + {coef_independente_0_1} - {coef_v_delta_0_1} V_\\\\delta + {coef_v_delta_0_2} V_\\\\delta - {coef_v_gamma_0_0} V_\\\\gamma - {coef_independente_0_2} + {coef_i_8_0_0} i_8 = 0 \\\\therefore \\\\\\\\\n    & {coef_v_delta_1} V_\\\\delta - {coef_v_gamma_1} V_\\\\gamma + {coef_i_8_0_0} i_8 = - {coef_independente_1} \\\\therefore \\\\\\\\\n    & [{coef_v_delta_1} V_\\\\delta - {coef_v_gamma_1} V_\\\\gamma + {coef_i_8_0_0} i_8] \\\\times (-1)  = [- {coef_independente_1}] \\\\times (-1) \\\\therefore \\\\\\\\\n    & {coef_v_delta_2} V_\\\\delta + {coef_v_gamma_1} V_\\\\gamma - {coef_i_8_0_0} i_8 = {coef_independente_1}\n\\\\end{{align*}}\n\\\\\\\\]'''.format(\n    coef_v_delta_0_0 = 600 // 600,\n    coef_independente_0_0 = 50 * (600 // 600),\n    coef_independente_0_1 = 660 * (600 // 10),\n    coef_v_delta_0_1 = 3 * (600 // 10),\n    coef_v_delta_0_2 = (600 // 60),\n    coef_v_gamma_0_0 = (600 // 60),\n    coef_independente_0_2 = 70 * 600 // 60,\n    coef_i_8_0_0 = 600 // 1,\n    coef_v_delta_1 = -180 + 10 + 1,\n    coef_v_gamma_1 = 10,\n    coef_independente_1 = 50  + 39600 - 700,\n    coef_v_delta_2 = (-180 + 10 + 1)*-1,\n)\ndisplay(\n    Markdown(\n        equacao\n    )\n)",
      "metadata": {
        "trusted": true
      },
      "execution_count": null,
      "outputs": []
    },
    {
      "cell_type": "markdown",
      "source": "E chegamos assim na LKC no nó \\\\(\\epsilon\\\\) como:\n\n\\\\[\n    169 V_\\delta + 10 V_\\gamma - 600 i_8 = 38950\n\\\\]\n\nEntão agora temos um SL com três equações:\n\n\\\\[\n\\left\\{\n\\begin{align*}\n    &7 V_\\gamma - 22 V_\\delta &= -2110 \\\\\n    &20 V_\\gamma - 19 V_\\delta - 100 i_8 &= 150 \\\\\n    &169 V_\\delta + 10 V_\\gamma - 600 i_8 &= 38950\n\\end{align*}\n\\right.\n\\\\]\n\nQue em sua forma matricial:\n\n\\\\[\n    \\begin{bmatrix}\n        7 & -22 & 0 \\\\\n        20 & -19 & -100 \\\\\n        169 & 10 & -600\n    \\end{bmatrix} \\cdot\n    \\begin{bmatrix}\n        V_{\\gamma} \\\\\n        V_{\\delta} \\\\\n        i_8\n    \\end{bmatrix} =\n    \\begin{bmatrix}\n        -2110 \\\\\n        150 \\\\\n        38950\n    \\end{bmatrix}\n\\\\]\n\nResolvendo no numpy:",
      "metadata": {}
    },
    {
      "cell_type": "code",
      "source": "import numpy as np\n\nA = np.array([\n    [7, -22, 0],\n    [20, -19, -100],\n    [169, 10, -600]\n])\nB = np.array([\n    -2110,\n    150,\n    38950\n])\nkeys = ['γ', 'δ', 'i_8']\nresults = {\n    keys[i]: result for i, result in enumerate(np.linalg.solve(A, B))\n}",
      "metadata": {
        "trusted": true
      },
      "execution_count": null,
      "outputs": []
    },
    {
      "cell_type": "markdown",
      "source": "Computando $i_3$:\n\n\\\\[\ni_3 = (150V - V_\\epsilon) / 10 \\\\\nV_\\epsilon = V_\\delta - 70V \\\\\ni_3 = (150V - V_\\delta + 70V) / 10 \\\\\ni_3 = (-V_\\delta + 220V) / 10\n\\\\]",
      "metadata": {}
    },
    {
      "cell_type": "code",
      "source": "i_3 = (-results['δ'] + 220) / 10\n\nresult = '''O valor de \\\\\\\\(i_3\\\\\\\\) é {i_3}A'''.format(\n    i_3 = i_3\n)\ndisplay(\n    Markdown(\n        result\n    )\n)",
      "metadata": {
        "trusted": true
      },
      "execution_count": null,
      "outputs": []
    }
  ]
}