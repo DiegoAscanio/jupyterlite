{
  "metadata": {
    "language_info": {
      "codemirror_mode": {
        "name": "python",
        "version": 3
      },
      "file_extension": ".py",
      "mimetype": "text/x-python",
      "name": "python",
      "nbconvert_exporter": "python",
      "pygments_lexer": "ipython3",
      "version": "3.8"
    },
    "kernelspec": {
      "name": "python",
      "display_name": "Python (Pyodide)",
      "language": "python"
    }
  },
  "nbformat_minor": 4,
  "nbformat": 4,
  "cells": [
    {
      "cell_type": "markdown",
      "source": "# Exemplo\n\n## Algoritmo de Euclides para cálculo do máximo divisor comum (MDC)\n\n\\\\[\nmdc(m, n) =\n\\begin{cases}\n&n, &m = 0 \\\\\n&mdc(n\\text{ mod }m, m), & m > 0\n\\end{cases}\n\\\\]",
      "metadata": {}
    },
    {
      "cell_type": "code",
      "source": "# escrevendo em python com o uso de lambdas para escrever funções pequenas\nmdc = lambda m, n: n if m == 0 else mdc(n % m, m)\nmdc(40, 50)",
      "metadata": {
        "trusted": true
      },
      "execution_count": null,
      "outputs": []
    },
    {
      "cell_type": "code",
      "source": "mdc(15,30)",
      "metadata": {},
      "execution_count": null,
      "outputs": []
    },
    {
      "cell_type": "code",
      "source": "mdc(18,30)",
      "metadata": {},
      "execution_count": null,
      "outputs": []
    },
    {
      "cell_type": "code",
      "source": "mdc(121, 55)",
      "metadata": {
        "trusted": true
      },
      "execution_count": null,
      "outputs": []
    }
  ]
}