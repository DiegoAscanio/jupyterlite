{
  "metadata": {
    "language_info": {
      "codemirror_mode": {
        "name": "python",
        "version": 3
      },
      "file_extension": ".py",
      "mimetype": "text/x-python",
      "name": "python",
      "nbconvert_exporter": "python",
      "pygments_lexer": "ipython3",
      "version": "3.8"
    },
    "kernelspec": {
      "name": "python",
      "display_name": "Python (Pyodide)",
      "language": "python"
    }
  },
  "nbformat_minor": 4,
  "nbformat": 4,
  "cells": [
    {
      "cell_type": "markdown",
      "source": "<figure>\n    \n![](https://raw.githubusercontent.com/DiegoAscanio/ace-aula-06/main/img/exemplo-71-resposta-rl.png)\n    \n<figcaption>Figura 2 - Circuito RL</figcaption>\n</figure>\n\nA chave no circuito mostrado na Figura 2 esteve fechada por um longo tempo, antes de ser aberta em \\(t = 0\\). Determine:\n\na) \\\\( i_L(t) \\\\) para \\\\( t \\geq 0 \\\\),\n\nb) \\\\( i_0(t) \\\\) para \\\\( t \\geq 0^+ \\\\),\n\nc) \\\\( v_0(t) \\\\) para \\\\( t \\geq 0^+ \\\\),\n\nd) a porcentagem da energia total armazenada no indutor de \\\\( 2 \\, \\text{H} \\\\) que é dissipada no resistor de \\\\( 10 \\, \\Omega \\\\).\n\n\n**Letra a)**\n\nPara encontrar a equação que descreve a corrente no indutor ao longo do tempo, antes de mais nada precisamos encontrar a resistência equivalente composta por \\\\( 2 \\Omega + 10 \\Omega || 40 \\Omega \\\\) dada por:\n\n\\\\[\n\\begin{align}\nR_{\\text{eq}} &= {2 \\Omega} + {{1} \\over {{{1} \\over {10 \\Omega}} + {{1} \\over {40 \\Omega}}}} \\therefore \\\\\\\\\nR_{\\text{eq}} &= 2 \\Omega + 8 \\Omega \\therefore \\\\\\\\\nR_{\\text{eq}} &= 10 \\Omega\n\\end{align}\n\\\\]\n\nConsiderando que a corrente no indutor é dada por:\n\n\\\\(I(t) = I(0) e^{- {R \\over L} t}\\\\)\n\nQue \\\\(I(0) = 20 A\\\\), \\\\(R = 10 \\Omega\\\\) e \\\\(L = 2 H \\\\)\n\nLogo, \n\n\\\\(I(t) = 20 e^{- {5} t}\\\\)\n\nO gráfico da corrente do indutor em resposta ao estímulo natural é dado por:",
      "metadata": {}
    },
    {
      "cell_type": "code",
      "source": "%matplotlib inline\nfrom matplotlib import pyplot as plt\nimport numpy as np\n\nt = np.linspace(-0.2, 2.02, 201)\ni_neg = np.vectorize(lambda x: 20)(t[t < 0])\ni_pos = np.vectorize(lambda x: 20 * np.exp(-5 * x))(t[t >= 0])\ni = np.concatenate((i_neg, i_pos))\nplt.plot(t, i, 'k')\nplt.show()",
      "metadata": {
        "trusted": true
      },
      "execution_count": null,
      "outputs": []
    },
    {
      "cell_type": "markdown",
      "source": "O enunciado não solicita, mas, também plotaremos a tensão \\\\(V_{R}\\\\) que passa pelo resistor: ",
      "metadata": {}
    },
    {
      "cell_type": "code",
      "source": "v_neg = np.vectorize(lambda x: 0)(t[t <= 0])\nv_pos = 10 * i_pos\nv = np.concatenate((v_neg, v_pos))\nplt.plot(t, v, 'k')\nplt.show()",
      "metadata": {
        "trusted": true
      },
      "execution_count": null,
      "outputs": []
    },
    {
      "cell_type": "markdown",
      "source": "**Letra b)**\n\n![](https://raw.githubusercontent.com/DiegoAscanio/ace-aula-06/main/img/exemplo-71-resposta-rl.png)\n\nPara encontrar a corrente \\\\(i_{o}(t)\\\\) que descreve a corrente no resistor de \\\\(40 \\Omega\\\\) ao longo do tempo consideramos:\n\n1. Pela LKC nos nós que \\\\(I_{40 \\Omega} + I_{10 \\Omega} = I_{R_{\\text{eq}}}\\\\)\n2. Pela LKT nas malhas que \\\\(-40 \\Omega \\cdot I_{40 \\Omega} + 10 \\Omega \\cdot I_{10 \\Omega} = 0\\\\)\n\nSabemos que \\\\(I_{R_{\\text{eq}}} = 20 e^{- {5} t}\\\\), que \\\\(I_{10 \\Omega} = 4 I_{40 \\Omega}\\\\), que \\\\(I_{40 \\Omega} = {I_{R_{\\text{eq}}} \\over 5} \\\\) e que \\\\(I_{40 \\Omega} = I_{o}\\\\).\n\nAssim, a corrente \\\\(I_{o}(t)\\\\) em \\\\(40 \\Omega \\\\) é:\n\n\\\\[\n\\begin{align}\nI_{o} &= {I_{R_{\\text{eq}}} \\over 5} \\therefore \\\\\\\\\nI_{o} &= {{20 e^{-5t}} \\over 5} \\therefore \\\\\\\\\nI_{o} &= 4 e^{-5t} A\n\\end{align}\n\\\\]\n\nO gráfico da corrente no resistor é dado por:",
      "metadata": {}
    },
    {
      "cell_type": "code",
      "source": "io_neg = np.vectorize(lambda x: 0)(t[t <= 0])\nio_pos = np.vectorize(lambda x: 4 * np.exp(-5 * x))(t[t > 0])\nio = np.concatenate((io_neg, io_pos))\nplt.plot(t, io, 'k')\nplt.show()",
      "metadata": {
        "trusted": true
      },
      "execution_count": null,
      "outputs": []
    },
    {
      "cell_type": "markdown",
      "source": "**Letra c)**\n\nPara encontrar a tensão \\\\(V_o\\\\) do resistor de \\\\(40 \\Omega\\\\), utilizamos a lei de Ohm, que nos ensina que \\\\(V = Ri\\\\):\n\n\\\\[\nV_o(t) = 40 \\Omega \\cdot 4 e^{-5t} A \\therefore \\\\\\\\\nV_o(t) = 160 e^{-5t} V\n\\\\]\n\nO enunciado não solicita, mas, também plotaremos a tensão \\\\(V_{o}\\\\) do resistor de \\\\(40 \\Omega\\\\): ",
      "metadata": {}
    },
    {
      "cell_type": "code",
      "source": "vo_neg = np.vectorize(lambda x: 0)(t[t <= 0])\nvo_pos = np.vectorize(lambda x: 160 * np.exp(-5 * x))(t[t > 0])\nvo = np.concatenate((vo_neg, vo_pos))\nplt.plot(t, vo, 'k')\nplt.show()",
      "metadata": {
        "trusted": true
      },
      "execution_count": null,
      "outputs": []
    },
    {
      "cell_type": "markdown",
      "source": "**Letra d)**\n\nA porcentagem da energia total armazenada no indutor de \\\\( 2 \\, \\text{H} \\\\) que é dissipada no resistor de \\\\( 10 \\, \\Omega \\\\):\n\nSabemos que a corrente \\\\(I_{R_{10 \\Omega}}\\\\) do resistor de \\\\(10 \\Omega\\\\) é dada por:\n\n\\\\[\n\\begin{align}\nI_{R_{10 \\Omega}} &= I_{R_{\\text{eq}}} - I_{R_{40 \\Omega}} \\therefore \\\\\\\\\nI_{R_{10 \\Omega}} &= 20 e^{-5t}A - 4 e^{-5t}A \\therefore \\\\\\\\\nI_{R_{10 \\Omega}} &= 16 e^{-5t} A\n\\end{align}\n\\\\]\n\nPara encontrarmos o percentual de energia dissipado pelo resistor de \\\\(10 \\Omega\\\\) em relação a energia total dissipada na resistência equivalente do circuito temos que calcular a razão da potência dissipada no resistor de \\\\(10 \\Omega\\\\) pela potência dissipada em todo o circuito.\n\n**Potência dissipada em \\\\(10 \\Omega\\\\):**\n\n\\\\[\n\\begin{align}\nP_{10 \\Omega} &= R I_{10 \\Omega}^2 \\therefore \\\\\\\\\nP_{10 \\Omega} &= 10 \\times 256 e^{-10t} = 2.56 e^{-10t} kW.\n\\end{align}\n\\\\]\n\n**Potência dissipada em \\\\(R_{\\text{eq}}\\\\):**\n\\\\[\n\\begin{align}\nP_{R_{\\text{eq}}} &= R I_{R_{\\text{eq}}}^2 \\therefore \\\\\\\\\nP_{R_{\\text{eq}}} &= 10 \\times 400 e^{-10t} = 4 e^{-10t} kW.\n\\end{align}\n\\\\]",
      "metadata": {}
    },
    {
      "cell_type": "code",
      "source": "from IPython.display import display, Markdown, Latex\n\npretty_result = '''**Percentual da potência dissipada por \\\\\\\\(10 \\\\Omega\\\\\\\\) em relação a todo o circuito:**\n\n\\\\\\\\[\n\\\\begin{align}\n    \\\\text{Percentual} &= {P_{10 \\\\Omega} \\\\over P_{R_{\\\\text{eq}}}} \\\\therefore \\\\\\\\\\\\\\\\'''\n\npretty_result += '''\n    \\\\text{Percentual} &= {{2.56 e^{-10t} kW} \\\\over {4 e^{-10t} kW}} \\\\therefore \\\\\\\\\\\\\\\\'''\n\npretty_result += '''\n    \\\\text{Percentual} &= {porcentagem:02d}\\\\%\n'''.format(Percentual = '{Percentual}', porcentagem = int(2.56/4 * 100))\n\npretty_result += '''\\\\end{align}\n\\\\\\\\]\n'''\ndisplay(Markdown(pretty_result))",
      "metadata": {
        "trusted": true
      },
      "execution_count": null,
      "outputs": []
    }
  ]
}