{
  "metadata": {
    "language_info": {
      "codemirror_mode": {
        "name": "python",
        "version": 3
      },
      "file_extension": ".py",
      "mimetype": "text/x-python",
      "name": "python",
      "nbconvert_exporter": "python",
      "pygments_lexer": "ipython3",
      "version": "3.8"
    },
    "kernelspec": {
      "name": "python",
      "display_name": "Python (Pyodide)",
      "language": "python"
    }
  },
  "nbformat_minor": 4,
  "nbformat": 4,
  "cells": [
    {
      "cell_type": "markdown",
      "source": "Queremos encontrar a $R_{\\text{TH}}$ equivalente deste circuito:\n\n![](https://diegoascanio.github.io/ace-aula-04/img/circuito-thevenin-fonte-dependente-simplificado.png)\n\nComo visto em sala, sabemos que a seguinte matriz o representa:\n\n$$\n\\left[\\begin{matrix}0 & 0 & 1.0 & 0 & 0 & 0 & -8.0 & 0 & 0\\\\0 & 1.0 & 0 & 0 & 0 & -2.0 & 0 & 0 & 0\\\\0 & 0 & 0 & 0 & 1.0 & 0 & -3.0 & 0 & 0\\\\0 & 0 & 0 & 0 & 0 & -1.0 & -4.0 & 1.0 & 0\\\\0 & 0 & 0 & 1.0 & 0 & 0 & -8.0 & 0 & 0\\\\0 & 0 & 0 & 0 & 0 & 2.0 & -8.0 & 0 & 0\\\\1.0 & 0 & 0 & 0 & 0 & -2.0 & 0 & 0 & 0\\\\0 & 0 & 0 & 0 & 0 & 0 & 0 & 0 & 0\\end{matrix}\\right] \\cdot \\left[\\begin{matrix}V_{C}\\\\V_{B}\\\\V_{A}\\\\V_{0}\\\\i_{3}\\\\i_{2}\\\\i_{1}\\\\i_{0}\\end{matrix}\\right] = \\left[\\begin{matrix}0\\\\0\\\\0\\\\0\\\\0\\\\0\\\\0\\\\0\\end{matrix}\\right]\n$$\n\nSabemos que 7 equações para 8 variáveis implica em um SL com um grau de liberdade. Por conveniência, escolhemos $i_0$ para ser nossa variável livre e resolvemos o sistema (em sua matriz estendida A:B) no sympy pela forma escada reduzida por linhas, para encontrar os valores de todas as outras variáveis em função de $i_0$",
      "metadata": {}
    },
    {
      "cell_type": "code",
      "source": "%pip install sympy\nfrom sympy import *\nSL = Matrix([\n    [  0,   0, 1.0,   0,   0,    0, -8.0,   0, 0],\n    [  0, 1.0,   0,   0,   0, -2.0,    0,   0, 0],\n    [  0,   0,   0,   0, 1.0,    0, -3.0,   0, 0],\n    [  0,   0,   0,   0,   0, -1.0, -4.0, 1.0, 0],\n    [  0,   0,   0, 1.0,   0,    0, -8.0,   0, 0],\n    [  0,   0,   0,   0,   0,  2.0, -8.0,   0, 0],\n    [1.0,   0,   0,   0,   0, -2.0,    0,   0, 0],\n    [  0,   0,   0,   0,   0,    0,    0,   0, 0]\n])\nSL.rref()",
      "metadata": {
        "trusted": true
      },
      "execution_count": null,
      "outputs": []
    },
    {
      "cell_type": "markdown",
      "source": "Sabemos que a ordem das variáveis é:\n\n$\n\\left[\\begin{matrix}V_{C}\\\\V_{B}\\\\V_{A}\\\\V_{0}\\\\i_{3}\\\\i_{2}\\\\i_{1}\\\\i_{0}\\end{matrix}\\right]\n$\n\nPortanto, na forma escada reduzida por linhas, $V_0$ encontra-se na quarta linha e esta linha apresenta a seguinte equação:\n\n$$\n\\begin{align}\n&V_0 - i_0 = 0 \\rightarrow \\\\\n&V_0 = i_0\n\\end{align}\n$$\n\nComo $R_{\\text{TX}} = \\frac{V_0}{i_0}$ e encontramos a relação neste circuito que $V_0 = i_0$, logo:\n\n$$\n\\frac{V_0}{i_0} = 1 = R_{\\text{TH}}\n$$\n\nPortanto, $R_{\\text{TH}} = 1 \\Omega$",
      "metadata": {}
    }
  ]
}