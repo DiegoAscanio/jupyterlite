{
 "cells": [
  {
   "cell_type": "markdown",
   "metadata": {},
   "source": [
    "# Exemplo 8.4\n",
    "\n",
    "![](https://i.imgur.com/A1q2bGa.png)\n",
    "\n",
    "## letra a)\n",
    "\n",
    "$$\n",
    "\\begin{align*}\n",
    "    s_1 &= - \\alpha + j {\\omega}_d \\\\\n",
    "    s_2 &= - \\alpha - j {\\omega}_d \\\\\n",
    "    {\\omega}_d &= \\sqrt{{{\\omega}_0}^{2} - \\alpha^{2}} \\\\\n",
    "    {\\omega}_0 &= \\frac{1}{\\sqrt{LC}} \\\\\n",
    "    \\alpha &= \\frac{1}{2RC}\n",
    "\\end{align*}\n",
    "$$"
   ]
  },
  {
   "cell_type": "code",
   "execution_count": 1,
   "metadata": {},
   "outputs": [
    {
     "name": "stdout",
     "output_type": "stream",
     "text": [
      "Requirement already satisfied: sympy in /tmp/tvenv/lib/python3.13/site-packages (1.13.3)\n",
      "Requirement already satisfied: numpy in /tmp/tvenv/lib/python3.13/site-packages (2.2.2)\n",
      "Requirement already satisfied: mpmath<1.4,>=1.1.0 in /tmp/tvenv/lib/python3.13/site-packages (from sympy) (1.3.0)\n",
      "\n",
      "\u001b[1m[\u001b[0m\u001b[34;49mnotice\u001b[0m\u001b[1;39;49m]\u001b[0m\u001b[39;49m A new release of pip is available: \u001b[0m\u001b[31;49m24.3.1\u001b[0m\u001b[39;49m -> \u001b[0m\u001b[32;49m25.0\u001b[0m\n",
      "\u001b[1m[\u001b[0m\u001b[34;49mnotice\u001b[0m\u001b[1;39;49m]\u001b[0m\u001b[39;49m To update, run: \u001b[0m\u001b[32;49mpip install --upgrade pip\u001b[0m\n",
      "Note: you may need to restart the kernel to use updated packages.\n"
     ]
    },
    {
     "data": {
      "text/latex": [
       "\n",
       "$$\n",
       "\\begin{align*}\n",
       "      α &: 200.0 \\\\\n",
       "    ω_0 &: 1000.0 \\\\\n",
       "    ω_d &: 979.80 \\\\\n",
       "    s_1 &: -200.00+979.80j \\\\\n",
       "    s_2 &: -200.00-979.80j\n",
       "\\end{align*}\n",
       "$$\n"
      ],
      "text/plain": [
       "<IPython.core.display.Latex object>"
      ]
     },
     "metadata": {},
     "output_type": "display_data"
    }
   ],
   "source": [
    "%pip install sympy numpy\n",
    "import numpy as np\n",
    "from IPython.display import display, Markdown, Latex\n",
    "from sympy import *\n",
    "\n",
    "R, L, C = 20e3, 8, 0.125e-6\n",
    "\n",
    "α = 1 / (2 * R * C)\n",
    "ω_0 = 1 / np.sqrt(L*C)\n",
    "ω_d = np.sqrt(ω_0 ** 2 - α ** 2)\n",
    "s_1 = -α + ω_d * 1j\n",
    "s_2 = -α - ω_d * 1j\n",
    "\n",
    "tex = f'''\n",
    "$$\n",
    "\\\\begin{{align*}}\n",
    "      α &: {α} \\\\\\\\\n",
    "    ω_0 &: {ω_0} \\\\\\\\\n",
    "    ω_d &: {ω_d:.2f} \\\\\\\\\n",
    "    s_1 &: {s_1:.2f} \\\\\\\\\n",
    "    s_2 &: {s_2:.2f}\n",
    "\\\\end{{align*}}\n",
    "$$\n",
    "'''\n",
    "\n",
    "display(\n",
    "    Latex(tex)\n",
    ")"
   ]
  },
  {
   "cell_type": "markdown",
   "metadata": {},
   "source": [
    "## letra b)"
   ]
  },
  {
   "cell_type": "code",
   "execution_count": 4,
   "metadata": {},
   "outputs": [
    {
     "data": {
      "text/latex": [
       "\n",
       "$$\n",
       "\\begin{align*}\n",
       "    V(0) &= 0.00V \\\\\n",
       "    \\frac{dV(0)}{dt} &= 98000.00 \\frac{V}{s}\n",
       "\\end{align*}\n",
       "$$\n"
      ],
      "text/plain": [
       "<IPython.core.display.Latex object>"
      ]
     },
     "metadata": {},
     "output_type": "display_data"
    }
   ],
   "source": [
    "B_1 = V_0 = 0\n",
    "i_c = 12.25e-3\n",
    "V_prime = i_c / C\n",
    "\n",
    "tex = f'''\n",
    "$$\n",
    "\\\\begin{{align*}}\n",
    "    V(0) &= {V_0:.2f}V \\\\\\\\\n",
    "    \\\\frac{{dV(0)}}{{dt}} &= {V_prime:.2f} \\\\frac{{V}}{{s}}\n",
    "\\\\end{{align*}}\n",
    "$$\n",
    "'''\n",
    "\n",
    "display(\n",
    "    Latex(tex)\n",
    ")"
   ]
  },
  {
   "cell_type": "markdown",
   "metadata": {},
   "source": [
    "## letra c)\n",
    "\n",
    "$$\n",
    "\\begin{align*}\n",
    "    \\begin{bmatrix}\n",
    "         1 & 0 \\\\\n",
    "        -α & ω_d\n",
    "    \\end{bmatrix} \\cdot\n",
    "    \\begin{bmatrix}\n",
    "         B_1 \\\\\n",
    "         B_2\n",
    "    \\end{bmatrix} &= \n",
    "    \\begin{bmatrix}\n",
    "         V(0) \\\\\n",
    "         \\frac{dV(0)}{dt}\n",
    "    \\end{bmatrix} \\therefore \\\\\n",
    "    \\begin{bmatrix}\n",
    "         1 & 0 \\\\\n",
    "        -200 & 979.80\n",
    "    \\end{bmatrix} \\cdot\n",
    "    \\begin{bmatrix}\n",
    "         B_1 \\\\\n",
    "         B_2\n",
    "    \\end{bmatrix} &= \n",
    "    \\begin{bmatrix}\n",
    "         0 \\\\\n",
    "         98000\n",
    "    \\end{bmatrix}\n",
    "\\end{align*}\n",
    "$$"
   ]
  },
  {
   "cell_type": "code",
   "execution_count": 12,
   "metadata": {},
   "outputs": [
    {
     "data": {
      "text/latex": [
       "\n",
       "$$\n",
       "\\begin{align*}\n",
       "    B_1 &= 0.00 \\\\\n",
       "    B_2 &= 100.02 \\\\\n",
       "    V(t) &= e^{-200.00t} \\cdot [ 0.00 \\ \\text{cos}(979.80 t) + 100.02 \\ \\text{sin}(979.80 t) ]  \\therefore \\\\\n",
       "    V(t) &= 100.02 \\ e^{-200.00t} \\text{sin}(979.80 t)\n",
       "\\end{align*}\n",
       "$$\n"
      ],
      "text/plain": [
       "<IPython.core.display.Latex object>"
      ]
     },
     "metadata": {},
     "output_type": "display_data"
    }
   ],
   "source": [
    "B_2 = V_prime / ω_d\n",
    "\n",
    "tex = f'''\n",
    "$$\n",
    "\\\\begin{{align*}}\n",
    "    B_1 &= {B_1:.2f} \\\\\\\\\n",
    "    B_2 &= {B_2:.2f} \\\\\\\\\n",
    "    V(t) &= e^{{{-α:.2f}t}} \\\\cdot [ {B_1:.2f} \\\\ \\\\text{{cos}}({ω_d:.2f} t) + {B_2:.2f} \\\\ \\\\text{{sin}}({ω_d:.2f} t) ]  \\\\therefore \\\\\\\\\n",
    "    V(t) &= {B_2:.2f} \\\\ e^{{{-α:.2f}t}} \\\\text{{sin}}({ω_d:.2f} t)\n",
    "\\\\end{{align*}}\n",
    "$$\n",
    "'''\n",
    "\n",
    "display(\n",
    "    Latex(tex)\n",
    ")"
   ]
  },
  {
   "cell_type": "markdown",
   "metadata": {},
   "source": [
    "## letra d)"
   ]
  },
  {
   "cell_type": "code",
   "execution_count": 19,
   "metadata": {},
   "outputs": [
    {
     "name": "stdout",
     "output_type": "stream",
     "text": [
      "Requirement already satisfied: matplotlib in /tmp/tvenv/lib/python3.13/site-packages (3.10.0)\n",
      "Requirement already satisfied: contourpy>=1.0.1 in /tmp/tvenv/lib/python3.13/site-packages (from matplotlib) (1.3.1)\n",
      "Requirement already satisfied: cycler>=0.10 in /tmp/tvenv/lib/python3.13/site-packages (from matplotlib) (0.12.1)\n",
      "Requirement already satisfied: fonttools>=4.22.0 in /tmp/tvenv/lib/python3.13/site-packages (from matplotlib) (4.55.8)\n",
      "Requirement already satisfied: kiwisolver>=1.3.1 in /tmp/tvenv/lib/python3.13/site-packages (from matplotlib) (1.4.8)\n",
      "Requirement already satisfied: numpy>=1.23 in /tmp/tvenv/lib/python3.13/site-packages (from matplotlib) (2.2.2)\n",
      "Requirement already satisfied: packaging>=20.0 in /tmp/tvenv/lib/python3.13/site-packages (from matplotlib) (24.2)\n",
      "Requirement already satisfied: pillow>=8 in /tmp/tvenv/lib/python3.13/site-packages (from matplotlib) (11.1.0)\n",
      "Requirement already satisfied: pyparsing>=2.3.1 in /tmp/tvenv/lib/python3.13/site-packages (from matplotlib) (3.2.1)\n",
      "Requirement already satisfied: python-dateutil>=2.7 in /tmp/tvenv/lib/python3.13/site-packages (from matplotlib) (2.9.0.post0)\n",
      "Requirement already satisfied: six>=1.5 in /tmp/tvenv/lib/python3.13/site-packages (from python-dateutil>=2.7->matplotlib) (1.17.0)\n",
      "\n",
      "\u001b[1m[\u001b[0m\u001b[34;49mnotice\u001b[0m\u001b[1;39;49m]\u001b[0m\u001b[39;49m A new release of pip is available: \u001b[0m\u001b[31;49m24.3.1\u001b[0m\u001b[39;49m -> \u001b[0m\u001b[32;49m25.0\u001b[0m\n",
      "\u001b[1m[\u001b[0m\u001b[34;49mnotice\u001b[0m\u001b[1;39;49m]\u001b[0m\u001b[39;49m To update, run: \u001b[0m\u001b[32;49mpip install --upgrade pip\u001b[0m\n",
      "Note: you may need to restart the kernel to use updated packages.\n"
     ]
    },
    {
     "data": {
      "image/png": "[encoded data removed]",
      "text/plain": [
       "<Figure size 640x480 with 1 Axes>"
      ]
     },
     "metadata": {},
     "output_type": "display_data"
    }
   ],
   "source": [
    "%pip install matplotlib\n",
    "from matplotlib import pyplot as plt\n",
    "t = np.linspace(0, 20e-3, 1001)\n",
    "V = np.vectorize(\n",
    "    lambda t: B_2 * np.exp(-α * t) * np.sin(ω_d * t)\n",
    ")\n",
    "\n",
    "plt.xlim([0, 0.02])\n",
    "plt.plot(t, V(t))\n",
    "plt.xlabel('t (s)')\n",
    "plt.ylabel('v (V)')\n",
    "plt.show()"
   ]
  },
  {
   "cell_type": "code",
   "execution_count": null,
   "metadata": {},
   "outputs": [],
   "source": []
  }
 ],
 "metadata": {
  "kernelspec": {
   "display_name": "Python 3 (ipykernel)",
   "language": "python",
   "name": "python3"
  },
  "language_info": {
   "codemirror_mode": {
    "name": "ipython",
    "version": 3
   },
   "file_extension": ".py",
   "mimetype": "text/x-python",
   "name": "python",
   "nbconvert_exporter": "python",
   "pygments_lexer": "ipython3",
   "version": "3.13.1"
  }
 },
 "nbformat": 4,
 "nbformat_minor": 4
}
