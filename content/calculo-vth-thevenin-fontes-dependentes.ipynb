{
  "metadata": {
    "language_info": {
      "codemirror_mode": {
        "name": "python",
        "version": 3
      },
      "file_extension": ".py",
      "mimetype": "text/x-python",
      "name": "python",
      "nbconvert_exporter": "python",
      "pygments_lexer": "ipython3",
      "version": "3.8"
    },
    "kernelspec": {
      "name": "python",
      "display_name": "Python (Pyodide)",
      "language": "python"
    }
  },
  "nbformat_minor": 4,
  "nbformat": 4,
  "cells": [
    {
      "cell_type": "markdown",
      "source": "# Cálculo de Tensão $V_{\\text{TH}}$ de Thévenin:\n\nComo visto no slide, o circuito representado por:\n\n![](https://diegoascanio.github.io/ace-aula-04/img/circuito-a-ser-simplificado-com-fonte-dependente-de-corrente-rotulado.png)\n\nPode ser modelado pelo seguinte sistema linear:\n\n$$\n\\left[\\begin{matrix}0 & 0 & 0 & 0 & -3.0 & 0 & 0 & 1.0\\\\\\\\0 & 0 & 0 & 0 & 1.0 & 0 & 1.0 & 1.0\\\\\\\\0 & 0 & 0 & 0 & 1.0 & -1.0 & 0 & 0\\\\\\\\0 & 1.0 & 0 & 0 & 0 & 0 & -2.0 & 0\\\\\\\\0 & 0 & 0 & 1.0 & 0 & 0 & -2.0 & 0\\\\\\\\0 & 1.0 & 0 & 0 & -8.0 & 0 & 0 & 0\\\\\\\\1.0 & 0 & 0 & 0 & -8.0 & 0 & 0 & 0\\\\\\\\0 & 0 & 1.0 & 0 & 0 & 0 & -2.0 & 0\\end{matrix}\\right]\n{} \\cdot {}\n\\left[\\begin{matrix}V_{a}\\\\\\\\V_{b}\\\\\\\\V_{c}\\\\\\\\V_{d}\\\\\\\\i_{0}\\\\\\\\i_{2}\\\\\\\\i_{3}\\\\\\\\i_{4}\\end{matrix}\\right]\n{} = {}\n\\left[\\begin{matrix}0\\\\\\\\-4.0\\\\\\\\-4.0\\\\\\\\24.0\\\\\\\\0\\\\\\\\0\\\\\\\\0\\\\\\\\0\\end{matrix}\\right]\n$$\n\nResolvendo o circuito a partir das bibliotecas numpy e sympy temos:",
      "metadata": {}
    },
    {
      "cell_type": "code",
      "source": "%pip install simpy numpy\nimport numpy as np\nfrom sympy import *\nfrom IPython.display import display, Markdown, Latex\n\nvariaveis = ['V_a', 'V_b', 'V_c', 'V_d', 'i_0', 'i_2', 'i_3', 'i_4']\n\nA = np.array([\n    [ 0.,  0.,  0.,  0., -3.,  0.,  0.,  1.],\n    [ 0.,  0.,  0.,  0.,  1.,  0.,  1.,  1.],\n    [ 0.,  0.,  0.,  0.,  1., -1.,  0.,  0.],\n    [ 0.,  1.,  0.,  0.,  0.,  0., -2.,  0.],\n    [ 0.,  0.,  0.,  1.,  0.,  0., -2.,  0.],\n    [ 0.,  1.,  0.,  0., -8.,  0.,  0.,  0.],\n    [ 1.,  0.,  0.,  0., -8.,  0.,  0.,  0.],\n    [ 0.,  0.,  1.,  0.,  0.,  0., -2.,  0.]\n])\nB = np.array([\n[   0],\n[-4.0],\n[-4.0],\n[24.0],\n[   0],\n[   0],\n[   0],\n[   0]])\n\nresultados = np.linalg.solve(A, B).ravel()\n\nunidade = {}\nfor variavel in variaveis:\n    if 'V_' in variavel:\n        unidade[variavel] = 'V'\n    elif 'i_' in variavel:\n        unidade[variavel] = 'A'\n        \nresultado_tex = '''$$\n\\\\begin{align}\n'''\n\n# adicionando cada resultado em resultado_tex em formato latex\n\nfor nome_variavel, resultado in zip(variaveis, resultados):\n    resultado_tex += '    &{} = {:.2f}{}\\\\\\\\\\n'.format(nome_variavel, resultado, unidade[nome_variavel])\n\n# finalizando a string\n\nresultado_tex += '''\\end{align}\n$$\n'''\ndisplay(Markdown(resultado_tex))",
      "metadata": {
        "trusted": true
      },
      "execution_count": null,
      "outputs": []
    }
  ]
}