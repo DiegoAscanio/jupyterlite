{
  "metadata": {
    "language_info": {
      "codemirror_mode": {
        "name": "python",
        "version": 3
      },
      "file_extension": ".py",
      "mimetype": "text/x-python",
      "name": "python",
      "nbconvert_exporter": "python",
      "pygments_lexer": "ipython3",
      "version": "3.8"
    },
    "kernelspec": {
      "name": "python",
      "display_name": "Python (Pyodide)",
      "language": "python"
    }
  },
  "nbformat_minor": 4,
  "nbformat": 4,
  "cells": [
    {
      "cell_type": "markdown",
      "source": "# Cálculo de Tensão $V_{\\text{TH}}$ de Thévenin:\n\nComo visto no slide, o circuito representado por:\n\n![](https://diegoascanio.github.io/ace-aula-04/img/circuito-a-ser-simplificado-com-fonte-dependente-de-corrente-rotulado.png)\n\nPode ser modelado pelo seguinte sistema linear:\n\n$$\n\\left[\\begin{matrix}0 & 0 & 0 & 0 & -3.0 & 0 & 0 & 1.0\\\\\\\\0 & 0 & 0 & 0 & 1.0 & 0 & 1.0 & 1.0\\\\\\\\0 & 0 & 0 & 0 & 1.0 & -1.0 & 0 & 0\\\\\\\\0 & 1.0 & 0 & 0 & 0 & 0 & -2.0 & 0\\\\\\\\0 & 0 & 0 & 1.0 & 0 & 0 & -2.0 & 0\\\\\\\\0 & 1.0 & 0 & 0 & -8.0 & 0 & 0 & 0\\\\\\\\1.0 & 0 & 0 & 0 & -8.0 & 0 & 0 & 0\\\\\\\\0 & 0 & 1.0 & 0 & 0 & 0 & -2.0 & 0\\end{matrix}\\right]\n{} \\cdot {}\n\\left[\\begin{matrix}V_{a}\\\\\\\\V_{b}\\\\\\\\V_{c}\\\\\\\\V_{d}\\\\\\\\i_{0}\\\\\\\\i_{2}\\\\\\\\i_{3}\\\\\\\\i_{4}\\end{matrix}\\right]\n{} = {}\n\\left[\\begin{matrix}0\\\\\\\\-4.0\\\\\\\\-4.0\\\\\\\\24.0\\\\\\\\0\\\\\\\\0\\\\\\\\0\\\\\\\\0\\end{matrix}\\right]\n$$\n\nResolvendo o circuito a partir das bibliotecas numpy e sympy temos:",
      "metadata": {}
    },
    {
      "cell_type": "code",
      "source": "%pip install simpy numpy\nimport numpy as np\nfrom sympy import *\nfrom IPython.display import display, Markdown, Latex\n\nvariaveis = ['V_a', 'V_b', 'V_c', 'V_d', 'i_0', 'i_2', 'i_3', 'i_4']\n\nA = np.array([\n    [ 0.,  0.,  0.,  0., -3.,  0.,  0.,  1.],\n    [ 0.,  0.,  0.,  0.,  1.,  0.,  1.,  1.],\n    [ 0.,  0.,  0.,  0.,  1., -1.,  0.,  0.],\n    [ 0.,  1.,  0.,  0.,  0.,  0., -2.,  0.],\n    [ 0.,  0.,  0.,  1.,  0.,  0., -2.,  0.],\n    [ 0.,  1.,  0.,  0., -8.,  0.,  0.,  0.],\n    [ 1.,  0.,  0.,  0., -8.,  0.,  0.,  0.],\n    [ 0.,  0.,  1.,  0.,  0.,  0., -2.,  0.]\n])\nB = np.array([\n[   0],\n[-4.0],\n[-4.0],\n[24.0],\n[   0],\n[   0],\n[   0],\n[   0]])\n\nresultados = np.linalg.solve(A, B).ravel()\n\nunidade = {}\nfor variavel in variaveis:\n    if 'V_' in variavel:\n        unidade[variavel] = 'V'\n    elif 'i_' in variavel:\n        unidade[variavel] = 'A'\n        \nresultado_tex = '''$$\n\\\\begin{align}\n'''\n\n# adicionando cada resultado em resultado_tex em formato latex\n\nfor nome_variavel, resultado in zip(nomes_variaveis, resultados):\n    resultado_tex += '    &{} = {:.2f}{}\\\\\\\\\\n'.format(nome_variavel, resultado, unidade[nome_variavel])\n\n# finalizando a string\n\nresultado_tex += '''\\end{align}\n$$\n'''\ndisplay(Markdown(resultado_tex))",
      "metadata": {
        "trusted": true
      },
      "execution_count": 3,
      "outputs": [
        {
          "ename": "<class 'NameError'>",
          "evalue": "name 'nomes_variaveis' is not defined",
          "traceback": [
            "\u001b[0;31m---------------------------------------------------------------------------\u001b[0m",
            "\u001b[0;31mNameError\u001b[0m                                 Traceback (most recent call last)",
            "Cell \u001b[0;32mIn[3], line 43\u001b[0m\n\u001b[1;32m     37\u001b[0m resultado_tex \u001b[38;5;241m=\u001b[39m \u001b[38;5;124m'''\u001b[39m\u001b[38;5;124m$$\u001b[39m\n\u001b[1;32m     38\u001b[0m \u001b[38;5;130;01m\\\\\u001b[39;00m\u001b[38;5;124mbegin\u001b[39m\u001b[38;5;132;01m{align}\u001b[39;00m\n\u001b[1;32m     39\u001b[0m \u001b[38;5;124m'''\u001b[39m\n\u001b[1;32m     41\u001b[0m \u001b[38;5;66;03m# adicionando cada resultado em resultado_tex em formato latex\u001b[39;00m\n\u001b[0;32m---> 43\u001b[0m \u001b[38;5;28;01mfor\u001b[39;00m nome_variavel, resultado \u001b[38;5;129;01min\u001b[39;00m \u001b[38;5;28mzip\u001b[39m(\u001b[43mnomes_variaveis\u001b[49m, resultados):\n\u001b[1;32m     44\u001b[0m     resultado_tex \u001b[38;5;241m+\u001b[39m\u001b[38;5;241m=\u001b[39m \u001b[38;5;124m'\u001b[39m\u001b[38;5;124m    &\u001b[39m\u001b[38;5;132;01m{}\u001b[39;00m\u001b[38;5;124m = \u001b[39m\u001b[38;5;132;01m{:.2f}\u001b[39;00m\u001b[38;5;132;01m{}\u001b[39;00m\u001b[38;5;130;01m\\\\\u001b[39;00m\u001b[38;5;130;01m\\\\\u001b[39;00m\u001b[38;5;130;01m\\n\u001b[39;00m\u001b[38;5;124m'\u001b[39m\u001b[38;5;241m.\u001b[39mformat(nome_variavel, resultado, unidade[nome_variavel])\n\u001b[1;32m     46\u001b[0m \u001b[38;5;66;03m# finalizando a string\u001b[39;00m\n",
            "\u001b[0;31mNameError\u001b[0m: name 'nomes_variaveis' is not defined"
          ],
          "output_type": "error"
        }
      ]
    },
    {
      "cell_type": "code",
      "source": "",
      "metadata": {},
      "execution_count": null,
      "outputs": []
    }
  ]
}