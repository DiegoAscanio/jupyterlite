{
  "metadata": {
    "language_info": {
      "name": ""
    },
    "kernelspec": {
      "name": "python",
      "display_name": "Python (Pyodide)",
      "language": "python"
    }
  },
  "nbformat_minor": 4,
  "nbformat": 4,
  "cells": [
    {
      "cell_type": "markdown",
      "source": "## Análise de para quando $V(t)$ é constante\n\nExemplo 1.27 livro do reginaldo\n\nEm um circuito RC uma bateria gera uma diferença de potencial\nde 10 volts enquanto a resistência é $R = 10^3 \\Omega$  e a capacitância é $C = 10^{−4} \\text{F}$.\nVamos encontrar a carga $Q(t)$ no capacitor em cada instante $t$, se $Q(0) = 0$ e o limite superior de $t$ é infinito.",
      "metadata": {}
    },
    {
      "cell_type": "code",
      "source": "%matplotlib inline\nfrom matplotlib import pyplot as plt\nimport numpy as np(\nfrom IPython.display import display, Markdown, Latex\n\nR = 10**3\nC = 10**-4\n\nP = lambda t, R = R, C = C: 1/(R*C)",
      "metadata": {
        "trusted": true
      },
      "execution_count": null,
      "outputs": []
    },
    {
      "cell_type": "code",
      "source": "",
      "metadata": {},
      "execution_count": null,
      "outputs": []
    }
  ]
}