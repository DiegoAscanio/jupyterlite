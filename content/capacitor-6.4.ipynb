{
  "metadata": {
    "language_info": {
      "codemirror_mode": {
        "name": "python",
        "version": 3
      },
      "file_extension": ".py",
      "mimetype": "text/x-python",
      "name": "python",
      "nbconvert_exporter": "python",
      "pygments_lexer": "ipython3",
      "version": "3.8"
    },
    "kernelspec": {
      "name": "python",
      "display_name": "Python (Pyodide)",
      "language": "python"
    }
  },
  "nbformat_minor": 4,
  "nbformat": 4,
  "cells": [
    {
      "cell_type": "markdown",
      "source": "O pulso de tensão descrito pelas seguintes equações está aplicado nos terminais de um capacitor de $0.5 \\mu F$:\n\n$$\nv(t) = \\begin{cases}\n    {0, t \\leq 0s; \\\\\n    4t V, 0s \\leq t \\leq 1s; \\\\\n    4 e^{-(t - 1)} V t \\geq 1s}\n\\end{cases}\n$$\n\na) Deduza as expressões para a corrente, potência e energia do capacitor.\n\nb) Faça os gráficos de tensão, corrente, potência e energia em função do tempo no capacitor.\n\nc) Especifique o intervalo de tempo em que a energia é armazenada no capacitor.\n\nd) Especifique o intervalo de tempo em que a energia é fornecida pelo capacitor.\n\ne) Avalie as integrais\n\n$$\n\\int_{0}^{1}{p dt} \\\\ \\int_{1}^{\\infty}{p dt}\n$$\n\ne comente seus significados.\n\n---\n\na)\n\nExpressões para corrente:\n\n$ i = C {{dv} \\over {dt}} $\n\n$$\ni(t) = \\begin{cases}\n    {(0.5 \\times 10^{-6})(0) = 0A, t \\leq 0s; \\\\\n     (0.5 \\times 10^{-6})(4) = 2 \\mu A, 0s \\leq t \\leq 1s; \\\\\n     (0.5 \\times 10^{-6})(-4 e^{-(t - 1)}) = -2e^{-(t - 1)} \\mu A, t \\geq 1s}\n\\end{cases}\n$$\n\nExpressões para potência:\n\n$ p = C v {{dv} \\over {dt}} $\n\n$$\np(t) = \\begin{cases}\n    {(0.5 \\times 10^{-6})(0)(0) = 0W, t \\leq 0s; \\\\\n     (0.5 \\times 10^{-6})(4t)(4) = 8t \\mu W, 0s \\leq t \\leq 1s; \\\\\n     (0.5 \\times 10^{-6})(4 e^{-(t - 1)})(-4 e^{-(t - 1)}) = -8e^{-2(t - 1)} \\mu W, t \\geq 1s}   \n\\end{cases}\n$$\n\nExpressões para energia:\n\n$ W = \\int{p dt}$\n\n$$\nW(t) = \\begin{cases}\n    {\\int{0 dt} = 0 t = 0J, t \\leq 0s; \\\\\n     \\int{8t \\mu W dt} = {{8 t^{2}} \\over {2}} = 4 t^{2} \\mu J, 0s \\leq t \\leq 1s; \\\\\n     \\int{-8e^{-2(t - 1)} \\mu W dt } = 4e^{-2(t - 1)} \\mu J\\geq 1s}\n\\end{cases}\n$$\n\nb)\n\n## Tensão no capacitor pelo tempo",
      "metadata": {}
    },
    {
      "cell_type": "code",
      "source": "import numpy as np\nimport matplotlib.pyplot as plt\nfrom sympy import *\n\nV = np.vectorize(\n    lambda t: 0 if t < 0 else 4*t if t >= 0 and t <= 1 else 4 * np.exp(-(t - 1))\n)\nt = np.linspace(0, 6, 601)\nplt.title('Tensão no capacitor ao longo do tempo')\nplt.plot(t, V(t))\nplt.show()\n\ni = np.vectorize(\n    lambda t: 0 if t < 0 else 2 * 10 ** (-6) if t >= 0 and t <= 1 else -2 * np.exp(-(t - 1)) * 10 ** (-6)\n)\nplt.title('Corrente no capacitor ao longo do tempo')\nplt.plot(t, i(t))\nplt.show()\n\np = np.vectorize(\n    lambda t: 0 if t < 0 else 8 * t * 10 ** (-6) if t >= 0 and t <= 1 else -8 * np.exp(-2*(t - 1)) * 10 ** (-6)\n)\nplt.title('Potência no capacitor ao longo do tempo')\nplt.plot(t, p(t))\nplt.show()\n\nw = np.vectorize(\n    lambda t: 0 if t < 0 else 4 * t * t * 10 ** (-6) if t >= 0 and t <= 1 else 4 * np.exp(-2*(t - 1)) * 10 ** (-6)\n)\nplt.title('Energia no capacitor ao longo do tempo')\nplt.plot(t, w(t))\nplt.show()",
      "metadata": {
        "trusted": true
      },
      "execution_count": null,
      "outputs": []
    },
    {
      "cell_type": "markdown",
      "source": "c)\n\nA energia é armazenada no capacitor quando $0 \\leq t \\leq 1$\n\nd)\n\nA energia é fornecida pelo capacitor quando $t > 1$\n\ne)\n\nA primeira integral representa a energia armazenada pelo capacitor quando $0 \\leq t \\leq 1$. A segunda representa a energia fornecida pelo capacitor quando $t > 1$",
      "metadata": {}
    }
  ]
}