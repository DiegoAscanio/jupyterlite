{
  "metadata": {
    "language_info": {
      "codemirror_mode": {
        "name": "python",
        "version": 3
      },
      "file_extension": ".py",
      "mimetype": "text/x-python",
      "name": "python",
      "nbconvert_exporter": "python",
      "pygments_lexer": "ipython3",
      "version": "3.8"
    },
    "kernelspec": {
      "name": "python",
      "display_name": "Python (Pyodide)",
      "language": "python"
    }
  },
  "nbformat_minor": 4,
  "nbformat": 4,
  "cells": [
    {
      "cell_type": "markdown",
      "source": "![](https://i.imgur.com/FuJx44Q.png)",
      "metadata": {}
    },
    {
      "cell_type": "markdown",
      "source": "**Letra a)**\n\n\\\\(V_{o}\\\\) é a tensão do capacitor ao longo do tempo.\n\nPela equação que deduzimos na aula, temos que:\n\n\\\\[\n\\begin{align} \nV_{C}(t) = RI_{S} + (V_{C}(0) - RI_{S}) \\cdot e^{{-t} \\over {RC}} \n\\end{align}\n\\\\]",
      "metadata": {}
    },
    {
      "cell_type": "markdown",
      "source": "Como vimos na aula apenas o cálculo da tensão de um capacitor conectado a um equivalente de Norton em \\\\(t = 0\\\\), logo, precisamos calcular o equivalente de norton do subcircuito composto dos componentes à direita do capacitor. Primeiramente, devemos calcular a resistência \\\\(R_{\\text{TH}}\\\\) equivalente do circuito. Como visto nas aulas anteriores, devemos curto-circuitar as fontes de tensão e colocar as fontes de corrente como malhas abertas. Curto circuitando a fonte de tensão, temos que:\n\n\\\\[\nR_{\\text{TH}} = 8 k \\Omega + 40 k \\Omega || 160 k \\Omega = 40 k \\Omega\n\\\\]\n\nEm seguida, calculamos a fonte de tensão equivalente de thévenin, retornando a fonte de tensão independente de \\\\(75 V\\\\) ao circuito. Como \\\\(8 k \\Omega\\\\) está desconectado dos terminais da configuração a ser simplificada, logo, não circula corrente no resistor e portanto, sua tensão é 0. Destarte, apenas o subcircuito \\\\( 40 k \\Omega \\rightarrow 75 V \\rightarrow 160 k \\Omega \\rightarrow 40 k \\Omega \\\\) é de interesse.",
      "metadata": {}
    },
    {
      "cell_type": "markdown",
      "source": "Nessa configuração, \\\\(160 k \\Omega\\\\) e \\\\(40 k \\Omega\\\\) estão em série à fonte de tensão de 75V. Portanto, pela LKT nas malhas:\n\n\\\\[\n160k I + 40k I = 75 \\\\\\\\\nI = 75/200k A \\therefore \\\\\\\\\nI = 0.375 mA\n\\\\]\n\nComo no resistor de \\\\(8 k \\Omega\\\\) não circula corrente e o resistor de de \\\\(160 k \\Omega\\\\) compartilha os terminais \\\\(A\\\\) e \\\\(B\\\\) de interesse do equivalente de Thévenin, logo, a tensão de thévenin é a tensão presente nos terminais deste resistor.\n\nPela lei de Ohm:\n\n\\\\[\nV_{\\text{TH}} = 160 k \\Omega \\cdot 0.375 m A = 60 V.\n\\\\]\n\nPara calcular a fonte de corrente do equivalente de norton devemos:\n\n\\\\[\nI_{\\text{NO}} = {{60V} \\over {40 k \\Omega}} = 1.5 mA\n\\\\]\n\nLogo, a configuração à direita do capacitor quando \\\\(t \\geq 0\\\\) pode ser dada por:\n\n![](https://i.imgur.com/9bzJMtM.png)\n\nSubstituindo na equação, temos:\n\n\\\\[\n\\begin{align} \nV_{C}(t) = 40k \\Omega \\cdot -1.5 mA  + (V_{C}(0) - 40k \\Omega \\cdot -1.5 mA) \\cdot e^{{-t} \\over {40 k \\Omega \\cdot 0.25 \\mu F}} \\therefore \\\\\\\\\nV_{C}(t) = -60 + (V_{C}(0) + 60) \\cdot e^{-100 t}\n\\end{align}\n\\\\]\n\n\\\\(-1.5 mA\\\\), pois, a corrente oriunda de \\\\(I_{\\text{NO}}\\\\) vem num sentido oposto à tensão inicial do capacitor \\\\(V_{C}(0)\\\\).\n\nAgora precisamos apenas encontrar \\\\(V_{C}(0)\\\\), que corresponde a tensão inicial do capacitor, quando \\\\(t < 0\\\\), que equivale ao circuito à esquerda do capacitor:\n\n![](https://i.imgur.com/cZqvP7b.png)\n\nAo analisar este circuito, vemos que a tensão do capacitor quando a chave está em 1 depois de um longo tempo, é a mesma do resistor de \\\\(60 k \\Omega\\\\)\n\nConsiderando que neste resistor circula a mesma corrente do resistor de \\\\(20 k \\Omega\\\\) e esta corrente é dada por \\\\({{40 V} \\over {80 k \\Omega}} = 0.5 mA\\\\), logo, \\\\(V_{C}(0) = V_{60 k \\Omega} = 60 k \\Omega \\cdot 0.5 mA = 30 V\\\\)\n\nSubstituindo \\\\(V_{C}(0)\\\\) temos:\n\n\\\\[\n\\begin{align} \nV_{C}(t) = -60 + (V_{C}(0) + 60) \\cdot e^{-100 t} \\therefore \\\\\\\\\nV_{C}(t) = -60 + (30 + 60) \\cdot e^{-100 t} \\therefore \\\\\\\\\nV_{C}(t) = -60 + 90 e^{-100 t}\n\\end{align}\n\\\\]",
      "metadata": {}
    },
    {
      "cell_type": "markdown",
      "source": "**Letra b)**\n\nConsiderando que \\\\(i_{o}\\\\) a corrente que circula no resistor (em série ao capacitor) é equivalente à corrente de deslocamento \\\\(i_{c}\\\\) do capacitor e que \\\\(i_{c} = C {{dV} \\over {dt}}\\\\), logo:\n\n\\\\[\ni_{c}(t) = 0.25 \\mu F \\times (-100) \\times 90 e^{-100t} \\therefore \\\\\\\\\ni_{c}(t) = -2.25 \\cdot e^{-100t} mA\n\\\\]",
      "metadata": {}
    }
  ]
}