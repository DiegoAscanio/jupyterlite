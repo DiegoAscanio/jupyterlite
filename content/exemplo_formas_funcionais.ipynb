{
  "metadata": {
    "language_info": {
      "codemirror_mode": {
        "name": "python",
        "version": 3
      },
      "file_extension": ".py",
      "mimetype": "text/x-python",
      "name": "python",
      "nbconvert_exporter": "python",
      "pygments_lexer": "ipython3",
      "version": "3.8"
    },
    "kernelspec": {
      "name": "python",
      "display_name": "Python (Pyodide)",
      "language": "python"
    }
  },
  "nbformat_minor": 4,
  "nbformat": 4,
  "cells": [
    {
      "cell_type": "markdown",
      "source": "# Exemplo de Formas Funcionais Superiores que recebem como parâmetros (e retornam) funções\n\n## Decorator — Funções Decoradoras\n\nDecorators em Python são usados para modificar o comportamento de uma função sem alterar seu código. Veja bem, isto é muito poderoso!!\n\nSuponhamos que queiramos fazer logs de resultados de uma função, mas, que por qualquer motivo, razão ou circunstância, não possamos alterar seu código (para mitigar quebras de funcionalidades, ou, pelo simples fato de tais funções serem binárias, pertencentes a bibliotecas de outras linguagens, etc).\n\nPodemos fazer isso através dos decoradores (**decorators**) em python que recebem como parâmetro uma função, definem internamente uma função de envelopagem (**wrapper**) que envelopa a função recebida no parâmetro e adiciona funcionalidades necessárias (exemplo, logging de eventos, resultados) sem realizar quaisquer modificações no código da função original, retornando esta função envelope que **embrulhará** qualquer função que você definir todas as vezes que você anotar o uso de um decorador antes da função que você deseja.\n\nAssim, todas as vezes que você chamar uma função **decorada** (com notação @nome_do_decorador antes da definição da função) o wrapper é quem realiza a execução da sua função decorada.\n\nVejamos os exemplos:",
      "metadata": {}
    },
    {
      "cell_type": "code",
      "source": "def logger(func):\n    def wrapper(*args, **kwargs):\n        print(f\"Chamando a função '{func.__name__}' com argumentos {args} e {kwargs}\")\n        resultado = func(*args, **kwargs)\n        print(f\"'{func.__name__}' retornou {resultado}\")\n        return resultado\n    return wrapper\n\n# Usando o decorador\n@logger\ndef soma(a, b):\n    return a + b\n\n# Usando o decorador\n@logger\ndef subtrai(a, b):\n    return a - b\n\n# Testando as funções decoradas\nsoma(3, 4)\nsubtrai(3, 4)",
      "metadata": {
        "trusted": true
      },
      "execution_count": 1,
      "outputs": [
        {
          "name": "stdout",
          "text": "Chamando a função 'soma' com argumentos (3, 4) e {}\n'soma' retornou 7\nChamando a função 'subtrai' com argumentos (3, 4) e {}\n'subtrai' retornou -1\n",
          "output_type": "stream"
        },
        {
          "execution_count": 1,
          "output_type": "execute_result",
          "data": {
            "text/plain": "-1"
          },
          "metadata": {}
        }
      ]
    }
  ]
}