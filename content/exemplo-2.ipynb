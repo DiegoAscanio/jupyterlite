{
 "cells": [
  {
   "cell_type": "markdown",
   "id": "331abcc6",
   "metadata": {},
   "source": [
    "# Resolução do Exemplo 2 da Aula 3 - Problema 2.25 8ª ed. do livro do Riedel\n",
    "\n",
    "O circuito representado pela figura:\n",
    "\n",
    "<img src=\"https://diegoascanio.github.io/ace-aula-03/img/circuito_2_5.png\" width=50% >\n",
    "\n",
    "Pode ser modelado pelas leis de Ohm, Kirchoff da Corrente nos Nós e Kirchoff da Tensão nas Malhas para o seguinte sistema linear:\n",
    "\n",
    "$$\n",
    "\\begin{cases}\n",
    "    &1 V_{a} + 0 V_{b} + 0 V_{c} + 0 V_{d} + 0 V_{e} + 0 V_{f} + 0 V_{g} + 0 V_{h} + 0 V_{i} - 8 i_{1} + 0 i_{2} + 0 i_{3} + 0 i_{4} + 0 i_{5} &= 0\\\\\n",
    "    &0 V_{a} + 1 V_{b} + 0 V_{c} + 0 V_{d} + 0 V_{e} + 0 V_{f} + 0 V_{g} + 0 V_{h} + 0 V_{i} -12 i_{1} + 0 i_{2} + 0 i_{3} + 0 i_{4} + 0 i_{5} &= 0\\\\\n",
    "    &0 V_{a} + 0 V_{b} + 1 V_{c} + 0 V_{d} + 0 V_{e} + 0 V_{f} + 0 V_{g} + 0 V_{h} + 0 V_{i} - 4 i_{1} + 0 i_{2} + 0 i_{3} + 0 i_{4} + 0 i_{5} &= 0\\\\\n",
    "    &0 V_{a} + 0 V_{b} + 0 V_{c} + 1 V_{d} + 0 V_{e} + 0 V_{f} + 0 V_{g} + 0 V_{h} + 0 V_{i} + 0 i_{1} + 0 i_{2} + 0 i_{3} + 0 i_{4} - 6 i_{5} &= 0\\\\\n",
    "    &0 V_{a} + 0 V_{b} + 0 V_{c} + 0 V_{d} + 1 V_{e} + 0 V_{f} + 0 V_{g} + 0 V_{h} + 0 V_{i} + 0 i_{1} + 0 i_{2} + 0 i_{3} + 0 i_{4} - 10 i_{5} &= 0\\\\\n",
    "    &0 V_{a} + 0 V_{b} + 0 V_{c} + 0 V_{d} + 0 V_{e} + 1 V_{f} + 0 V_{g} + 0 V_{h} + 0 V_{i} + 0 i_{1} + 0 i_{2} + 0 i_{3} + 0 i_{4} + 0 i_{5} &= 48\\\\\n",
    "    &0 V_{a} + 0 V_{b} + 0 V_{c} + 0 V_{d} + 0 V_{e} + 0 V_{f} + 0 V_{g} + 1 V_{h} + 0 V_{i} + 0 i_{1} - 4 i_{2} + 0 i_{3} + 0 i_{4} + 0 i_{5} &= 0\\\\\n",
    "    &0 V_{a} + 0 V_{b} + 0 V_{c} + 0 V_{d} + 0 V_{e} + 0 V_{f} + 0 V_{g} + 0 V_{h} + 1 V_{i} + 0 i_{1} + 0 i_{2} -24 i_{3} + 0 i_{4} + 0 i_{5} &= 0\\\\\n",
    "    &0 V_{a} + 0 V_{b} + 0 V_{c} + 0 V_{d} + 0 V_{e} + 0 V_{f} + 0 V_{g} + 0 V_{h} + 0 V_{i} + 1 i_{1} + 1 i_{2} + 0 i_{3} + 0 i_{4} + 0 i_{5} &= -4\\\\\n",
    "    &0 V_{a} + 0 V_{b} + 0 V_{c} + 0 V_{d} + 0 V_{e} + 0 V_{f} + 0 V_{g} + 0 V_{h} + 0 V_{i} + 0 i_{1} + 1 i_{2} - 1 i_{3} - 1 i_{4} + 0 i_{5} &= 0\\\\\n",
    "    &0 V_{a} + 0 V_{b} + 0 V_{c} + 0 V_{d} + 0 V_{e} + 0 V_{f} + 0 V_{g} + 0 V_{h} + 0 V_{i} - 1 i_{1} + 0 i_{2} - 1 i_{3} + 0 i_{4} + 1 i_{5} &= 0\\\\\n",
    "    &0 V_{a} + 0 V_{b} + 0 V_{c} + 0 V_{d} + 0 V_{e} + 0 V_{f} - 1 V_{g} + 0 V_{h} + 0 V_{i} + 0 i_{1} - 4 i_{2} + 0 i_{3} + 0 i_{4} + 0 i_{5} &= -128\\\\\n",
    "    &0 V_{a} + 0 V_{b} + 0 V_{c} + 0 V_{d} + 0 V_{e} + 0 V_{f} + 1 V_{g} + 0 V_{h} + 0 V_{i} + 0 i_{1} + 0 i_{2} - 24 i_{3} + 0 i_{4} - 16 i_{5} &= 0\\\\\n",
    "    &0 V_{a} + 0 V_{b} + 0 V_{c} + 0 V_{d} + 0 V_{e} + 0 V_{f} + 0 V_{g} + 0 V_{h} + 0 V_{i} - 24 i_{1} + 4 i_{2} + 24 i_{3} + 0 i_{4} + 0 i_{5} &= 0\\\\\n",
    "\\end{cases}\n",
    "$$\n",
    "\n",
    "Sua representação matricial é dada por:\n",
    "\n",
    "$$\n",
    "\\begin{equation*}\n",
    "\\begin{bmatrix}\n",
    "1 & 0 & 0 & 0 & 0 & 0 & 0 & 0  & 0   & -8 & 0   & 0   & 0   & 0  \\\\\n",
    "0 & 1 & 0 & 0 & 0 & 0 & 0 & 0  & 0   & -12& 0   & 0   & 0   & 0  \\\\\n",
    "0 & 0 & 1 & 0 & 0 & 0 & 0 & 0  & 0   & -4 & 0   & 0   & 0   & 0  \\\\\n",
    "0 & 0 & 0 & 1 & 0 & 0 & 0 & 0  & 0   & 0  & 0   & 0   & 0   & -6 \\\\\n",
    "0 & 0 & 0 & 0 & 1 & 0 & 0 & 0  & 0   & 0  & 0   & 0   & 0   & -10\\\\\n",
    "0 & 0 & 0 & 0 & 0 & 1 & 0 & 0  & 0   & 0  & 0   & 0   & 0   & 0  \\\\\n",
    "0 & 0 & 0 & 0 & 0 & 0 & 0 & 1  & 0   & 0  & -4  & 0   & 0   & 0  \\\\\n",
    "0 & 0 & 0 & 0 & 0 & 0 & 0 & 0  & 1   & 0  & 0   & -24 & 0   & 0  \\\\\n",
    "0 & 0 & 0 & 0 & 0 & 0 & 0 & 0  & 0   & 1  & 1   & 0   & 0   & 0  \\\\\n",
    "0 & 0 & 0 & 0 & 0 & 0 & 0 & 0  & 0   & 0  & 1   & -1  & -1  & 0  \\\\\n",
    "0 & 0 & 0 & 0 & 0 & 0 & 0 & 0  & 0   & -1 & 0   & -1  & 0   & 1  \\\\\n",
    "0 & 0 & 0 & 0 & 0 & 0 & -1& 0  & 0   & 0  & -4  & 0   & 0   & 0  \\\\\n",
    "0 & 0 & 0 & 0 & 0 & 0 & 1 & 0  & 0   & 0  & 0   & -24 & 0   & -16\\\\\n",
    "0 & 0 & 0 & 0 & 0 & 0 & 0 & 0  & 0   & -24& 4   & 24  & 0   & 0  \\\\\n",
    "\\end{bmatrix}\n",
    "\\begin{bmatrix}\n",
    "V_a \\\\ V_b \\\\ V_c \\\\ V_d \\\\ V_e \\\\ V_f \\\\ V_g \\\\ V_h \\\\ V_i \\\\ i_1 \\\\ i_2 \\\\ i_3 \\\\ i_4 \\\\ i_5\n",
    "\\end{bmatrix}\n",
    "=\n",
    "\\begin{bmatrix}\n",
    "0 \\\\ 0 \\\\ 0 \\\\ 0 \\\\ 0 \\\\ 48\\\\ 0 \\\\ 0 \\\\ -4 \\\\ 0 \\\\ 0 \\\\ -128 \\\\ 0 \\\\ 0\n",
    "\\end{bmatrix}\n",
    "\\end{equation*}\n",
    "$$\n",
    "\n",
    "E usaremos a biblioteca numpy para resolvê-lo. Primeiro, devemos importar a biblioteca.\n",
    "\n",
    "## Importando o Numpy"
   ]
  },
  {
   "cell_type": "code",
   "execution_count": 20,
   "id": "9e6e5ba3",
   "metadata": {},
   "outputs": [],
   "source": [
    "import numpy as np\n",
    "import pandas as pd"
   ]
  },
  {
   "cell_type": "markdown",
   "id": "3882eb8b",
   "metadata": {},
   "source": [
    "## Definindo a matriz A de coeficientes"
   ]
  },
  {
   "cell_type": "code",
   "execution_count": 71,
   "id": "c4e74637",
   "metadata": {},
   "outputs": [],
   "source": [
    "A = np.array([\n",
    "    [1] + [0 for i in range(8)] + [-8] + [0 for i in range(4)],\n",
    "    [0, 1] + [0 for i in range(7)] + [-12] + [0 for i in range(4)],\n",
    "    [0, 0, 1] + [0 for i in range(6)] + [-4] + [0 for i in range(4)],\n",
    "    [0 for i in range(3)] + [1] + [0 for i in range(9)] + [-6],\n",
    "    [0 for i in range(4)] + [1] + [0 for i in range(8)] + [-10],\n",
    "    [0 for i in range(5)] + [1] + [0 for i in range(8)],\n",
    "    [0 for i in range(7)] + [1, 0, 0, -4] + [0 for i in range(3)],\n",
    "    [0 for i in range(8)] + [1, 0, 0, -24, 0, 0],\n",
    "    [0 for i in range(9)] + [1, 1, 0, 0, 0],\n",
    "    [0 for i in range(10)] + [1, -1, -1, 0],\n",
    "    [0 for i in range(9)] + [-1, 0, -1, 0, 1],\n",
    "    [0 for i in range(6)] + [-1, 0, 0, 0, -4, 0, 0, 0],\n",
    "    [0 for i in range(6)] + [1, 0, 0, 0, 0, -24, 0, -16],\n",
    "    [0 for i in range(9)] + [-24, 4, 24, 0, 0]\n",
    "])"
   ]
  },
  {
   "cell_type": "markdown",
   "id": "7a578c77",
   "metadata": {},
   "source": [
    "## Definindo a matriz B de termos independentes"
   ]
  },
  {
   "cell_type": "code",
   "execution_count": 96,
   "id": "c0a726f1",
   "metadata": {},
   "outputs": [],
   "source": [
    "B = np.array(\n",
    "    [[0] for i in range(5)] + [[48], [0], [0], [-4], [0], [0], [-128], [0], [0]]\n",
    ")"
   ]
  },
  {
   "cell_type": "markdown",
   "id": "c149dffa",
   "metadata": {},
   "source": [
    "## Definindo o nome das variáveis"
   ]
  },
  {
   "cell_type": "code",
   "execution_count": 97,
   "id": "f1ac841c",
   "metadata": {},
   "outputs": [],
   "source": [
    "nomes_variaveis = ['V_a', 'V_b', 'V_c', 'V_d', 'V_e', 'V_f', 'V_g', 'V_h', 'V_i', 'i_1', 'i_2', 'i_3', 'i_4', 'i_5']"
   ]
  },
  {
   "cell_type": "markdown",
   "id": "d0a5186b",
   "metadata": {},
   "source": [
    "## Calculando os resultados"
   ]
  },
  {
   "cell_type": "code",
   "execution_count": 98,
   "id": "237e2b71",
   "metadata": {},
   "outputs": [],
   "source": [
    "resultados = np.linalg.solve(A, B).ravel()"
   ]
  },
  {
   "cell_type": "markdown",
   "id": "6fac202a",
   "metadata": {},
   "source": [
    "### Mostrando os resultados com formatação em latex:"
   ]
  },
  {
   "cell_type": "code",
   "execution_count": 99,
   "id": "ff096c7d",
   "metadata": {},
   "outputs": [
    {
     "data": {
      "text/markdown": [
       "$$\n",
       "\\begin{align}\n",
       "    &V_a = 16.00V\\\\\n",
       "    &V_b = 24.00V\\\\\n",
       "    &V_c = 8.00V\\\\\n",
       "    &V_d = 30.00V\\\\\n",
       "    &V_e = 50.00V\\\\\n",
       "    &V_f = 48.00V\\\\\n",
       "    &V_g = 152.00V\\\\\n",
       "    &V_h = -24.00V\\\\\n",
       "    &V_i = 72.00V\\\\\n",
       "    &i_1 = 2.00A\\\\\n",
       "    &i_2 = -6.00A\\\\\n",
       "    &i_3 = 3.00A\\\\\n",
       "    &i_4 = -9.00A\\\\\n",
       "    &i_5 = 5.00A\\\\\n",
       "\\end{align}\n",
       "$$\n"
      ],
      "text/plain": [
       "<IPython.core.display.Markdown object>"
      ]
     },
     "metadata": {},
     "output_type": "display_data"
    }
   ],
   "source": [
    "from IPython.display import display, Markdown, Latex\n",
    "\n",
    "unidade = {}\n",
    "# 1. Definindo as unidades das variáveis de tensão como Volt\n",
    "for nome_variavel in nomes_variaveis[0:9]:\n",
    "    unidade[nome_variavel] = 'V'\n",
    "    \n",
    "# 2. Definindo as unidades das variáveis de corrente como Ampére\n",
    "for nome_variavel in nomes_variaveis[9:14]:\n",
    "    unidade[nome_variavel] = 'A'\n",
    "    \n",
    "# criando string para armazenar o resultado em formato latex\n",
    "\n",
    "resultado_tex = '''$$\n",
    "\\\\begin{align}\n",
    "'''\n",
    "\n",
    "# adicionando cada resultado em resultado_tex em formato latex\n",
    "\n",
    "for nome_variavel, resultado in zip(nomes_variaveis, resultados):\n",
    "    resultado_tex += '    &{} = {:.2f}{}\\\\\\\\\\n'.format(nome_variavel, resultado, unidade[nome_variavel])\n",
    "\n",
    "# finalizando a string\n",
    "\n",
    "resultado_tex += '''\\end{align}\n",
    "$$\n",
    "'''\n",
    "display(Markdown(resultado_tex))"
   ]
  }
 ],
 "metadata": {
  "kernelspec": {
   "display_name": "Python 3 (ipykernel)",
   "language": "python",
   "name": "python3"
  },
  "language_info": {
   "codemirror_mode": {
    "name": "ipython",
    "version": 3
   },
   "file_extension": ".py",
   "mimetype": "text/x-python",
   "name": "python",
   "nbconvert_exporter": "python",
   "pygments_lexer": "ipython3",
   "version": "3.11.3"
  }
 },
 "nbformat": 4,
 "nbformat_minor": 5
}
