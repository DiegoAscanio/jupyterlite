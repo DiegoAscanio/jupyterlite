{
  "metadata": {
    "kernelspec": {
      "name": "python",
      "display_name": "Python (Pyodide)",
      "language": "python"
    },
    "language_info": {
      "codemirror_mode": {
        "name": "python",
        "version": 3
      },
      "file_extension": ".py",
      "mimetype": "text/x-python",
      "name": "python",
      "nbconvert_exporter": "python",
      "pygments_lexer": "ipython3",
      "version": "3.8"
    }
  },
  "nbformat_minor": 4,
  "nbformat": 4,
  "cells": [
    {
      "cell_type": "markdown",
      "source": "![](https://i.imgur.com/31vaXz8.png)",
      "metadata": {}
    },
    {
      "cell_type": "markdown",
      "source": "a) Como vimos,\n\\\\[\n\\begin{align}\n    s_{1} &= - \\alpha + \\sqrt{{\\alpha}^{2} - {\\omega_{0}}^{2}} \\\\\n    s_{2} &= - \\alpha - \\sqrt{{\\alpha}^{2} - {\\omega_{0}}^{2}} \\\\\n    \\alpha &= \\frac{1}{2RC} \\\\\n    \\omega_{0} &= \\frac{1}{\\sqrt{LC}} \\\\\n\\end{align}\n\\\\]\n\nSabendo que:\n\n\\\\[\n\\begin{align}\n    R &= 200 \\Omega \\\\\n    L &= 50 mH \\\\\n    C &= 0.2 \\mu F\n\\end{align}\n\\\\]",
      "metadata": {}
    },
    {
      "cell_type": "code",
      "source": "import numpy as np\nfrom IPython.display import display, Markdown, Latex\n\nalpha = lambda R, C: np.round(1/(2*R*C))\nomega_0 = lambda L, C: np.round(1/np.sqrt(L*C))\ns_1 = lambda R, L, C: np.round(\n    -alpha(R,C) + np.sqrt(\n        np.power(alpha(R,C), 2) - np.power(omega_0(L,C), 2) + 0j\n    )\n)\ns_2 = lambda R, L, C: np.round(\n    -alpha(R,C) - np.sqrt(\n        np.power(alpha(R,C), 2) - np.power(omega_0(L,C), 2) + 0j\n    )\n)\nR, L, C = 200, 50e-3, 0.2e-6\nlatex_result  = '\\\\begin{align}\\n'\nlatex_result += '    s_{{1}} &= {} \\\\\\\\\\n'.format(s_1(R,L,C))\nlatex_result += '    s_{{2}} &= {} \\\\\\\\\\n'.format(s_2(R,L,C))\nlatex_result += '    \\\\alpha &= {} \\\\\\\\\\n'.format(alpha(R,C))\nlatex_result += '    \\\\omega_{{0}} &= {} \\\\\\\\\\n'.format(omega_0(L,C))\nlatex_result += '\\\\end{align}'\nmd_result = '\\\\\\\\[\\n' + latex_result + '\\n\\\\\\\\]'\ndisplay(Markdown(md_result))",
      "metadata": {
        "trusted": true
      },
      "outputs": [
        {
          "output_type": "display_data",
          "data": {
            "text/plain": "<IPython.core.display.Markdown object>",
            "text/markdown": "\\\\[\n\\begin{align}\n    s_{1} &= (-5000+0j) \\\\\n    s_{2} &= (-20000+0j) \\\\\n    \\alpha &= 12500.0 \\\\\n    \\omega_{0} &= 10000.0 \\\\\n\\end{align}\n\\\\]"
          },
          "metadata": {}
        }
      ],
      "execution_count": 44
    },
    {
      "cell_type": "code",
      "source": "def caracteristica_resposta(R, L, C):\n    if np.isclose(np.power(alpha(R, C), 2) - np.power(omega_0(L, C), 2), 0):\n        # amortecimento critico\n        return 'A resposta é críticamente amortecida'\n    elif np.power(alpha(R, C), 2) > np.power(omega_0(L, C), 2):\n        return 'A resposta é superamortecida'\n    else:\n        return 'A resposta é subamortecida'\nmd_result = '**Letra b)**\\n\\n{}'.format(\n    caracteristica_resposta(R, L, C)\n)\ndisplay(Markdown(md_result))",
      "metadata": {
        "trusted": true
      },
      "outputs": [
        {
          "output_type": "display_data",
          "data": {
            "text/plain": "<IPython.core.display.Markdown object>",
            "text/markdown": "**Letra b)**\n\nA resposta é superamortecida"
          },
          "metadata": {}
        }
      ],
      "execution_count": 45
    },
    {
      "cell_type": "code",
      "source": "R, L, C = 312.5, 50e-3, 0.2e-6\nlatex_result  = '\\\\begin{align}\\n'\nlatex_result += '    s_{{1}} &= {} \\\\\\\\\\n'.format(s_1(R,L,C))\nlatex_result += '    s_{{2}} &= {} \\\\\\\\\\n'.format(s_2(R,L,C))\nlatex_result += '    \\\\alpha &= {} \\\\\\\\\\n'.format(alpha(R,C))\nlatex_result += '    \\\\omega_{{0}} &= {} \\\\\\\\\\n'.format(omega_0(L,C))\nlatex_result += '\\\\end{align}'\nmd_result  = '\\\\\\\\[\\n' + latex_result + '\\n\\\\\\\\]\\n\\n'\nmd_result += '**Letra c)**\\n\\n{}'.format(\n    caracteristica_resposta(R, L, C)\n)\ndisplay(Markdown(md_result))",
      "metadata": {
        "trusted": true
      },
      "outputs": [
        {
          "output_type": "display_data",
          "data": {
            "text/plain": "<IPython.core.display.Markdown object>",
            "text/markdown": "\\\\[\n\\begin{align}\n    s_{1} &= (-8000+6000j) \\\\\n    s_{2} &= (-8000-6000j) \\\\\n    \\alpha &= 8000.0 \\\\\n    \\omega_{0} &= 10000.0 \\\\\n\\end{align}\n\\\\]\n\n**Letra c)**\n\nA resposta é subamortecida"
          },
          "metadata": {}
        }
      ],
      "execution_count": 46
    },
    {
      "cell_type": "code",
      "source": "%pip install sympy\nfrom sympy import Symbol, solve\nR = Symbol('R')\nr = solve(\n    (1/(2*R*C))**(2) - (1/((L*C)**(1/2)))**(2)\n).pop()\nmd_result  = '**Letra d)**\\n\\n'\nmd_result += 'O valor de R que torna a resposta criticamente amortecida é: '\nmd_result += '\\\\\\\\({:.0f} \\Omega\\\\\\\\)'.format(r)\ndisplay(Markdown(md_result))",
      "metadata": {
        "trusted": true
      },
      "outputs": [
        {
          "output_type": "display_data",
          "data": {
            "text/plain": "<IPython.core.display.Markdown object>",
            "text/markdown": "**Letra d)**\n\nO valor de R que torna a resposta criticamente amortecida é: \\\\(250 \\Omega\\\\)"
          },
          "metadata": {}
        }
      ],
      "execution_count": 63
    }
  ]
}