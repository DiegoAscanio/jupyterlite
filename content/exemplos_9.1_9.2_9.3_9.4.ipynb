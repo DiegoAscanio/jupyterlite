{
  "metadata": {
    "kernelspec": {
      "name": "python",
      "display_name": "Python (Pyodide)",
      "language": "python"
    },
    "language_info": {
      "codemirror_mode": {
        "name": "python",
        "version": 3
      },
      "file_extension": ".py",
      "mimetype": "text/x-python",
      "name": "python",
      "nbconvert_exporter": "python",
      "pygments_lexer": "ipython3",
      "version": "3.8"
    }
  },
  "nbformat_minor": 4,
  "nbformat": 4,
  "cells": [
    {
      "cell_type": "markdown",
      "source": "![](https://i.imgur.com/zBetfBB.png)",
      "metadata": {},
      "attachments": {}
    },
    {
      "cell_type": "code",
      "source": "%pip install sympy\nimport numpy as np\nfrom IPython.display import display, Markdown, Latex\nfrom sympy import *\nfrom matplotlib import pyplot as plt\n\n# letra a) O valor da frequência da corrente em hertz\nT = 0.001\nf = 1/T\nresposta_letra_a = '''**Letra a)**:\n\nO valor da frequência da corrente é:\n\\\\begin{{align}}\n    f &= \\\\frac{{1}}{{T}} = \\\\frac{{1}}{{{T}}} = {f} Hz\n\\\\end{{align}}\n'''.format(T = T, f = f)\ndisplay(Markdown(resposta_letra_a))",
      "metadata": {
        "trusted": true
      },
      "outputs": [],
      "execution_count": null
    },
    {
      "cell_type": "code",
      "source": "# letra b) frequencia em rad/s\nomega = 2 * pi * f\nresposta_letra_b = '''\n**Letra b)**\n\nO valor da frequência em \\\\\\\\(\\\\frac{{\\\\text{{rad}}}}{{s}}\\\\\\\\) é:\n\n\\\\\\\\[\n\\\\begin{{align}}\n    \\\\omega &= 2 \\pi f = 2 \\pi \\\\times {f} Hz = {} \\pi \\\\frac{{\\\\text{{rad}}}}{{s}}  = {omega:.2f} \\\\frac{{\\\\text{{rad}}}}{{s}}\n\\\\end{{align}}\n\\\\\\\\]\n'''.format(f*2, f = f, omega = omega)\ndisplay(Markdown(resposta_letra_b))",
      "metadata": {
        "trusted": true
      },
      "outputs": [],
      "execution_count": null
    },
    {
      "cell_type": "code",
      "source": "from mpmath import degrees\n# letra c\n# i(t) = I_m * cos (omega * t + phi)\n# i(t) = 20 * cos (2000 pi * t + phi)\n# i(0) = 10\nphi = Symbol('φ')\nφ = solve(20 * cos(phi) - 10)[0]\nt = Symbol('t')\nI = 20 * cos(2000 * pi * t + φ)\n\nresposta_letra_c = '''\n**letra c)**\n\n\\\\begin{{align}}\n    i(t) = & &{I} \\\\\\\\\n    \\phi \\\\text{{ em graus: }} & &{deg:.2f}°\n\\\\end{{align}}\n'''.format(I = latex(I), deg = φ * 180/pi)\ndisplay(Markdown(resposta_letra_c))",
      "metadata": {
        "trusted": true
      },
      "outputs": [],
      "execution_count": null
    },
    {
      "cell_type": "code",
      "source": "resposta_letra_d = '''\n**letra d)**\n\n\\\\\\\\[\n\\\\begin{{align}}\n    I_{{\\\\text{{rms}}}} &= \\\\frac{{20}}{{\\\\sqrt{{2}}}} &= {irms:.2f}\n\\\\end{{align}}\n\\\\\\\\]\n'''.format(\n    irms = 20 / np.sqrt(2)\n)\ndisplay(Markdown(resposta_letra_d))",
      "metadata": {
        "trusted": true
      },
      "outputs": [],
      "execution_count": null
    },
    {
      "cell_type": "markdown",
      "source": "![](https://i.imgur.com/42QIMJZ.png)",
      "metadata": {}
    },
    {
      "cell_type": "code",
      "source": "# letra a - periodo da tensão em ms\n# se omega = 2 pi f e f = 1/T, logo, T = 2 pi / omega e como está em milissegundos, T = (2 pi / omega) * 1e3\nomega = 120 * pi\nT = (2 * pi / omega) * 1e3\nresposta_letra_a = '''\n**Letra a)**\n\n\\\\begin{{align}}\n    T = {T:.2f}ms\n\\\\end{{align}}\n'''.format(T = T)\ndisplay(Markdown(resposta_letra_a))",
      "metadata": {
        "trusted": true
      },
      "outputs": [],
      "execution_count": null
    },
    {
      "cell_type": "code",
      "source": "resposta_letra_b = '''\n**Letra b)**\n\n\\\\begin{{align}}\n    f &= \\\\frac{{1}}{{T}} &= {f:.2f} Hz\n\\\\end{{align}}\n'''.format(f = 1/(T/1000))\ndisplay(Markdown(resposta_letra_b))",
      "metadata": {
        "trusted": true
      },
      "outputs": [],
      "execution_count": null
    },
    {
      "cell_type": "code",
      "source": "t = Symbol('t')\nv = 300 * cos(120 * pi * t + pi / 6)\nresposta_letra_c = '''\n**Letra c)**\n\n\\\\begin{{align}}\n    v = {v} V \\\\therefore \\\\\\\\\n    v({t}ms) = {tensao:.1f} V\n\\\\end{{align}}\n'''.format(\n    v = latex(v),\n    t = 2.778,\n    tensao = v.evalf(subs = {t : 0.002778})\n)\ndisplay(Markdown(resposta_letra_c))",
      "metadata": {
        "trusted": true
      },
      "outputs": [],
      "execution_count": null
    },
    {
      "cell_type": "code",
      "source": "# o valor rms de V\nV_rms = 300 / np.sqrt(2)\nresposta_letra_d = '''\n**letra d)**\n\nO valor eficaz de V é:\n\n\\\\begin{{align}}\n    V_{{\\\\text{{RMS}}}} &= {V_rms:.2f} V\n\\\\end{{align}}\n'''.format(V_rms = V_rms)\ndisplay(Markdown(resposta_letra_d))",
      "metadata": {
        "trusted": true
      },
      "outputs": [],
      "execution_count": null
    },
    {
      "cell_type": "markdown",
      "source": "![](https://i.imgur.com/ROD2VyZ.png)\n\n**letra a)**\n\nConsideremos a identidade trigonométrica\n\n\\\\[\n\\begin{align}\n    \\cos(\\alpha - \\beta) = \\cos(\\alpha) \\cos(\\beta) + \\sin(\\alpha) \\sin(\\beta)\n\\end{align}\n\\\\]\n\nSeja \\\\(\\alpha = \\omega t + \\theta\\\\) e \\\\(\\beta = 90°\\\\).\n\nEntão:\n\n\\\\[\n\\begin{align}\n    \\cos(\\omega t + \\theta - 90°) &= \\cos(\\omega t + \\theta) \\cos(90°) + \\sin(\\omega t + \\theta) \\sin(90°) \\therefore \\\\\n    \\cos(\\omega t + \\theta - 90°) &= \\cos(\\omega t + \\theta) \\times 0 + \\sin(\\omega t + \\theta) \\times 1 \\therefore \\\\\n    \\cos(\\omega t + \\theta - 90°) &= \\sin(\\omega t + \\theta) \\therefore \\\\\n    \\sin(\\omega t + \\theta) &= \\cos(\\omega t + \\theta - 90°)\n\\end{align}\n\\\\]\n\n**letra b)**\n\n\\\\[\n\\begin{align}\n\\sin(\\omega t + 30°) &= \\cos(\\omega t + 30° - 90°) \\therefore \\\\\n\\sin(\\omega t + 30°) &= \\cos(\\omega t - 60°)\n\\end{align}\n\\\\]",
      "metadata": {}
    },
    {
      "cell_type": "markdown",
      "source": "![](https://i.imgur.com/uGw3Ju6.png)\n![](https://i.imgur.com/09C42rd.png)",
      "metadata": {}
    },
    {
      "cell_type": "markdown",
      "source": "Sabemos que o valor eficaz (rms) de qualquer função é dado por:\n\n\\\\[\n    f_{rms} = \\sqrt{\\frac{1}{T + T_{0} - T_{0}} \\int_{T_{0}}^{T + T_{0}}|f(t)|^{2} dt}\n\\\\]\n\nNossa função de interesse é a corrente elétrica triangular. Sabemos que uma onda triangular de amplitude 1 pode ser aproximada por: \\\\(x(t)=4\\left\\vert t-\\left\\lfloor t+3/4\\right\\rfloor +1/4\\right\\vert -1\\\\)\n\nPortanto, nossa corrente elétrica de amplitude \\\\(I_{p}\\\\) pode ser aproximada por:\n\n\\\\[\n\\begin{align}\n    i(t) &= I_{p} \\times \\left( 4 \\times \\left\\vert t-\\left\\lfloor t+3/4\\right\\rfloor +1/4\\right\\vert -1 \\right)\n\\end{align}\n\\\\]\n\nPara qualquer período \\\\(T\\\\) esta fórmula é valida, desde que consideremos \\\\(t\\\\) como uma fração de \\\\(T\\\\).\n\nMas, a grandeza que nos interessa, para o cálculo do valor RMS é a raiz quadrada da integral do quadrado desta função i.\n\nComo esta função i apresenta módulo e piso (floor — arredondamento para baixo) considero o cálculo de sua integral muito complexo de ser obtido pela forma analítica. Utilizaremos para tanto o método numérico mais simplório para obtenção de integrais que consiste em dividir a área abaixo de uma curva em retângulos infinetesimalmente pequenos e calcular a integral desta curva pela soma da área destes retângulos infinetesimalmente pequenos.\n\nVamos definir por tanto nossa função I pelo sympy, um intervalo de tempo t contendo dois períodos T, a função \\\\(I^{2}\\\\) e plotar estas funções no matplotlib:",
      "metadata": {},
      "attachments": {}
    },
    {
      "cell_type": "code",
      "source": "t = Symbol('t')\nI_p = Symbol('I_{p}')\ni = I_p * (4 * Abs(t - floor(t + 3/4) + 1/4) - 1)\ntempo = np.linspace(0,2,201)\nperiodo = tempo[0:100]\nI = np.array([i.subs(t, t_prime) for t_prime in tempo])\nI_p_2 = np.array([(i**2).subs(t, t_prime) for t_prime in tempo])\nplt.title('I x t')\nplt.ylabel('I_p')\nplt.plot(tempo, I/I_p)\nplt.show()\nplt.title('I^2 x t')\nplt.plot(tempo, I_p_2/(I_p**2), 'orange')\nplt.ylabel('I_p^2')\nplt.show()",
      "metadata": {
        "trusted": true
      },
      "outputs": [],
      "execution_count": null
    },
    {
      "cell_type": "markdown",
      "source": "Agora vamos calcular a integral de \\\\({I_{p}}^{2}\\\\) pela soma da área de retângulos infinitesimalmente pequenos:\nConsiderando que no período proposto, 0 a T, cada intervalo está separado por uma fração de 0.01s (base) e o valor de \\\\({I_{P}}^{2}(t)\\\\) no instante t do período é a altura do pequeno retângulo, logo, temos que fazer a soma das áreas de todos os retângulos contidos no período:",
      "metadata": {}
    },
    {
      "cell_type": "code",
      "source": "integral = 0 * I_p # A soma ao final vai ter de ser em função da corrente de pico\nfor j in range(len(periodo)):\n    base_retangulo = 0.01 # a distancia entre cada medida de tempo do nosso periodo\n    altura_retangulo = I_p_2[j]\n    integral += base_retangulo * altura_retangulo\n#O valor RMS é dado pela raiz quadrada da integral\nRMS = sqrt(integral)\nresposta_exemplo_9_4 = '''\nO Valor RMS (eficaz) da corrente é:\n\n\\\\\\\\[\n\\\\begin{{align}}\nI_{{RMS}} &= {RMS} \\\\therefore \\\\\\\\\nI_{{RMS}} &= \\\\frac{{I_p}}{{\\\\sqrt{{3}}}}\n\\\\end{{align}}\n\\\\\\\\]\n'''.format(RMS = latex(RMS, long_frac_ratio=1))\ndisplay(Markdown(resposta_exemplo_9_4))",
      "metadata": {
        "trusted": true
      },
      "outputs": [],
      "execution_count": null
    }
  ]
}