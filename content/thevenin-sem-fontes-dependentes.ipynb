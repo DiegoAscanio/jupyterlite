{
  "metadata": {
    "language_info": {
      "codemirror_mode": {
        "name": "python",
        "version": 3
      },
      "file_extension": ".py",
      "mimetype": "text/x-python",
      "name": "python",
      "nbconvert_exporter": "python",
      "pygments_lexer": "ipython3",
      "version": "3.8"
    },
    "kernelspec": {
      "name": "python",
      "display_name": "Python (Pyodide)",
      "language": "python"
    }
  },
  "nbformat_minor": 4,
  "nbformat": 4,
  "cells": [
    {
      "cell_type": "markdown",
      "source": "Este é o subcircuito equivalente de Thévenin que queremos resolver:\n\n![](https://diegoascanio.github.io/ace-aula-04/img/thevenin-exemplo-1-passo-4-2-2.svg)\n\nA tensão equivalente de Thévenin $V_{\\text{TH}}$ é $V_{k}$\n\nO sistema linear que representa este circuito é dado por:\n\n$$\n\\begin{bmatrix}\n1 & 0 & 0 & -5 & 0 \\\\\n0 & 1 & 0 & 0 & -20 \\\\\n0 & 0 & 0 & 1 & -1 \\\\\n0 & 0 & 1 & 0 & -20 \\\\\n0 & 0 & 0 & 5 & 20\n\\end{bmatrix}\n\\begin{bmatrix}\nV_{i} \\\\\nV_{j} \\\\\nV_{k} \\\\\ni_{1} \\\\\ni_{2}\n\\end{bmatrix}\n{ = }\n\\begin{bmatrix}\n0 \\\\\n0 \\\\\n-3 \\\\\n0 \\\\\n25\n\\end{bmatrix}\n$$\n\nAo reseolvermos este sistema e encontrarmos $V_k$, encontraremos a tensão de Thévenin. Para isso, vamos usar o numpy:",
      "metadata": {}
    },
    {
      "cell_type": "code",
      "source": "from IPython.display import display, Markdown, Latex\nimport numpy as np\n\nA = np.array([\n    [1, 0, 0, -5, 0],\n    [0, 1, 0, 0, -20],\n    [0, 0, 0, 1, -1],\n    [0, 0, 1, 0, -20],\n    [0, 0, 0, 5, 20]\n])\n\nB = np.zeros((5,1))\nB[2][0] = -3\nB[4][0] = 25\nresultados = np.linalg.solve(A, B).ravel()\n\nnomes_variaveis = ['V_i', 'V_j', 'V_k', 'i_1', 'i_2']\nunidade = {\n    'V_i': 'V', \n    'V_j': 'V',\n    'V_k': 'V',\n    'i_1': 'A',\n    'i_2': 'A'\n}\n\nresultado_tex = '''$$\n\\\\begin{align}\n'''\n\n# adicionando cada resultado em resultado_tex em formato latex\n\nfor nome_variavel, resultado in zip(nomes_variaveis, resultados):\n    resultado_tex += '    &{} = {:.2f}{}\\\\\\\\\\n'.format(nome_variavel, resultado, unidade[nome_variavel])\n\n# finalizando a string\n\nresultado_tex += '''\\end{align}\n$$\n'''\ndisplay(Markdown(resultado_tex))",
      "metadata": {
        "trusted": true
      },
      "execution_count": 3,
      "outputs": [
        {
          "output_type": "display_data",
          "data": {
            "text/plain": "<IPython.core.display.Markdown object>",
            "text/markdown": "$$\n\\begin{align}\n    &V_i = -7.00V\\\\\n    &V_j = 32.00V\\\\\n    &V_k = 32.00V\\\\\n    &i_1 = -1.40A\\\\\n    &i_2 = 1.60A\\\\\n\\end{align}\n$$\n"
          },
          "metadata": {}
        }
      ]
    },
    {
      "cell_type": "code",
      "source": "",
      "metadata": {},
      "execution_count": null,
      "outputs": []
    }
  ]
}