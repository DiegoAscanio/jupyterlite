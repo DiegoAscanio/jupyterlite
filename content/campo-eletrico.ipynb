{
 "cells": [
  {
   "cell_type": "markdown",
   "id": "a0787f75",
   "metadata": {},
   "source": [
    "# Exemplo de Cálculo de Campo Elétrico\n",
    "\n",
    "Duas cargas pontuais de 5 nC e -2 nC estão localizadas, respectivamente, nas coordenadas cartesianas (2, 0, 4) e (-3, 0, 5). Calcule o vetor campo elétrico e a intensidade da força elétrica exercida sobre uma carga de 1 nC localizada em (1, -3, 7)."
   ]
  },
  {
   "cell_type": "markdown",
   "id": "5fd031e5",
   "metadata": {},
   "source": [
    "# Plot de cargas e do campo elétrico no espaço 3D"
   ]
  },
  {
   "cell_type": "code",
   "execution_count": null,
   "id": "3ccc28f1",
   "metadata": {},
   "outputs": [],
   "source": [
    "# configuracao de bibliotecas, etc\n",
    "\n",
    "import pdb\n",
    "import scipy as sp\n",
    "from mpl_toolkits import mplot3d\n",
    "%matplotlib inline\n",
    "import numpy as np\n",
    "import matplotlib.pyplot as plt\n",
    "fig = plt.figure()\n",
    "ax = plt.axes(projection='3d')\n",
    "\n",
    "# Q1\n",
    "q1 = np.array([2, 0, 4])\n",
    "ax.scatter3D(*q1) # ploto q1\n",
    "ax.text(q1[0], q1[1], q1[2], 'q1') # sua legenda no grafico\n",
    "\n",
    "# Q2\n",
    "q2 = np.array([-3, 0, 5]) # ploto q2\n",
    "ax.scatter3D(*q2) # sua legenda no grafico\n",
    "ax.text(q2[0], q2[1], q2[2], 'q2')\n",
    "\n",
    "# Q\n",
    "q = np.array([1, -3, 7]) \n",
    "ax.scatter3D(*q) # ploto q\n",
    "ax.text(q[0], q[1], q[2], 'q') # sua legenda no grafico\n",
    "\n",
    "# vetor campo elétrico de q1 até q\n",
    "E_q1 = np.stack((q1, q))\n",
    "# extraio as coordenadas X, Y, Z do vetor\n",
    "x = E_q1[:,0]\n",
    "y = E_q1[:,1]\n",
    "z = E_q1[:,2]\n",
    "ax.plot3D(x, y, z) # ploto o vetor\n",
    "\n",
    "# vetor campo elétrico de q2 até q\n",
    "E_q2 = np.stack((q2, q))\n",
    "# extraio as coordenadas X, Y, Z do vetor\n",
    "x = E_q2[:,0]\n",
    "y = E_q2[:,1]\n",
    "z = E_q2[:,2]\n",
    "ax.plot3D(x, y, z) # ploto o vetor"
   ]
  },
  {
   "cell_type": "markdown",
   "id": "f852567d",
   "metadata": {},
   "source": [
    "# Cálculo do Campo Elétrico Exercido Pelas Cargas $q_1$, $q_2$ em $q$\n",
    "\n",
    "$\\vec{q_1} = 5 \\times 10^{-9} C$, presente em $(2, 0, 4)$\n",
    "\n",
    "$\\vec{q_2} = -2 \\times 10^{-9} C$, presente em $(-3, 0, 5)$\n",
    "\n",
    "$\\vec{q} = 1 \\times 10^{-9} C$, presente em $(1, -3, 7)$\n",
    "\n",
    "$\\vec{E} = \\vec{E}_{q_{1}q} + \\vec{E}_{q_{2}q}$\n",
    "\n",
    "$\\vec{E}_{q_{1}q} = { {\\vec{F}_{q_{1}q} \\over {q}}} = { {q_1} \\over {4 \\pi \\varepsilon_{0} |{r_{q_{1}q}}|^{2}}} \\hat{r}_{q_{1}q}$\n",
    "\n",
    "## Cálculo de $\\hat{r}_{q_{1}q}:$\n",
    "\n",
    "$ {\\hat{r}_{q_{1}q}} = {\\vec{r_{q_{1}q}} \\over {|r_{q_{1}q}|}} $\n",
    "\n",
    "$\\vec{r}_{q_{1}q} = (q_x - q_{_{1}x}, q_y - q_{_{1}y}, q_z - q_{_{1}z}) $\n",
    "\n",
    "$\\vec{r}_{q_{1}q} = (1 - 2, -3 - 0, 7 - 4) = (-1, -3, 3)$\n",
    "\n",
    "$|\\vec{r}_{q_{1}q}| = \\sqrt{(-1)^{2} + (-3)^{2} + (3)^{2}} = \\sqrt{19}$\n",
    "\n",
    "$ {\\hat{r}_{q_{1}q}} = {\\vec{r_{q_{1}q}} \\over {|r_{q_{1}q}|}} = {(-1, -3, 3) \\over \\sqrt{19}}$\n",
    "\n",
    "## Cálculo de $\\vec{E}_{q_{1}q}:$\n",
    "\n",
    "$\\vec{E}_{q_{1}q} = { {\\vec{F}_{q_{1}q} \\over {q}}} = { {q_1} \\over {4 \\pi \\varepsilon_{0} |{r_{q_{1}q}}|^{2}}} \\hat{r}_{q_{1}q}$\n",
    "\n",
    "$\\vec{E}_{q_{1}q} = { {5 \\times 10^{-9}} \\over {4 \\pi \\varepsilon_{0} |\\sqrt{19}|^{2}}} \\cdot {(-1, -3, 3) \\over \\sqrt{19}} = $"
   ]
  },
  {
   "cell_type": "code",
   "execution_count": null,
   "id": "c545328d",
   "metadata": {},
   "outputs": [],
   "source": [
    "epsilon_0 = 8.8541878128e-12\n",
    "pi = 3.141592653589793\n",
    "r_chapeu_q1q = np.array([-1, -3, 3]) * (1/np.sqrt(19))\n",
    "E_q1q = np.round((5e-9 / (4 * pi * epsilon_0 * np.abs(np.sqrt(19)) ** 2)) * r_chapeu_q1q, 3)\n",
    "print('Campo elétrico E: ({:.3f}i {:.3f}j + {:.3f}k)C'.format(\n",
    "    E_q1q[0],\n",
    "    E_q1q[1],\n",
    "    E_q1q[2]\n",
    "))\n",
    "print('Escrevendo E em função do vetor q1q: {:.3f}({}i {}j + {}k)C'.format(\n",
    "    np.abs(E_q1q[0]),\n",
    "    (E_q1q[0] / np.abs(E_q1q[0])),\n",
    "    (E_q1q[1] / np.abs(E_q1q[0])),\n",
    "    (E_q1q[2] / np.abs(E_q1q[0])),\n",
    "))"
   ]
  },
  {
   "cell_type": "markdown",
   "id": "65b98ff6",
   "metadata": {},
   "source": [
    "Logo, $E_{q1}q = 0.543(-i -3j + 3k)C$\n",
    "\n",
    "## Cálculo de $\\hat{r}_{q_{2}q}:$\n",
    "\n",
    "$ {\\hat{r}_{q_{2}q}} = {\\vec{r_{q_{2}q}} \\over {|r_{q_{2}q}|}} $\n",
    "\n",
    "$\\vec{r}_{q_{2}q} = (q_x - q_{_{2}x}, q_y - q_{_{2}y}, q_z - q_{_{2}z}) $\n",
    "\n",
    "$\\vec{r}_{q_{2}q} = (1 - (-3), -3 - 0, 7 - 5) = (4, -3, 2)$\n",
    "\n",
    "$|\\vec{r}_{q_{2}q}| = \\sqrt{(4)^{2} + (-3)^{2} + (2)^{2}} = \\sqrt{29}$\n",
    "\n",
    "$ {\\hat{r}_{q_{2}q}} = {\\vec{r_{q_{2}q}} \\over {|r_{q_{2}q}|}} = {(4, -3, 2) \\over \\sqrt{29}}$\n",
    "\n",
    "## Cálculo de $\\vec{E}_{q_{2}q}:$\n",
    "\n",
    "$\\vec{E}_{q_{2}q} = { {\\vec{F}_{q_{2}q} \\over {q}}} = { {q_1} \\over {4 \\pi \\varepsilon_{0} |{r_{q_{2}q}}|^{2}}} \\hat{r}_{q_{2}q}$\n",
    "\n",
    "$\\vec{E}_{q_{2}q} = { {-2 \\times 10^{-9}} \\over {4 \\pi \\varepsilon_{0} |\\sqrt{29}|^{2}}} \\cdot {(4, -3, 2) \\over \\sqrt{29}} = $"
   ]
  },
  {
   "cell_type": "code",
   "execution_count": null,
   "id": "08fc5826",
   "metadata": {},
   "outputs": [],
   "source": [
    "r_chapeu_q2q = np.array([4, -3, 2]) * (1/np.sqrt(29))\n",
    "print(r_chapeu_q2q)\n",
    "E_q2q = (-2e-9 / (4 * pi * epsilon_0 * 29)) * r_chapeu_q2q\n",
    "print('Campo elétrico E: ({:.3f}i {:.3f}j + {:.3f}k)C'.format(\n",
    "    E_q2q[0],\n",
    "    E_q2q[1],\n",
    "    E_q2q[2]\n",
    "))\n",
    "print('Escrevendo E em função do vetor q2q: {:.3f}({}i + {}j + {}k)C'.format(\n",
    "    np.abs(E_q2q[0])/4,\n",
    "    (E_q2q[0] / np.abs(E_q2q[0])) * 4,\n",
    "    (E_q2q[1] / np.abs(E_q2q[0])) * 4,\n",
    "    (E_q2q[2] / np.abs(E_q2q[0])) * 4,\n",
    "))"
   ]
  },
  {
   "cell_type": "code",
   "execution_count": null,
   "id": "7afe4c25",
   "metadata": {},
   "outputs": [],
   "source": [
    "# verificando se E_q2q pode ser escrito da forma 0.115(-4.0i + 3.0j + -2.0k)\n",
    "\n",
    "atol = 1e-3 # margem de erro +- 0.001\n",
    "print('A aproximação é verdadeira? {}'.format(np.allclose(E_q2q, 0.115*np.array([-4.0, 3.0, -2.0]), atol = atol)))"
   ]
  },
  {
   "cell_type": "markdown",
   "id": "5c837ac9",
   "metadata": {},
   "source": [
    "Logo, $\\vec{E}_{q2}q = 0.115(-4.0i + 3.0j + -2.0k)C$\n",
    "\n",
    "Assim,\n",
    "\n",
    "$\\vec{E} = \\vec{E}_{q1}q + \\vec{E}_{q2}q :$"
   ]
  },
  {
   "cell_type": "code",
   "execution_count": null,
   "id": "b729b87c",
   "metadata": {},
   "outputs": [],
   "source": [
    "E = E_q1q + E_q2q\n",
    "print('O campo elétrico exercido pelas cargas q1 e q2 sobre q é de: ({:.3f}i {:.3f}j + {:.3f}k) N/C'.format(\n",
    "    E[0],\n",
    "    E[1],\n",
    "    E[2]\n",
    "))"
   ]
  },
  {
   "cell_type": "markdown",
   "id": "fbb6b900",
   "metadata": {},
   "source": [
    "# Calcule a intensidade da força elétrica sobre $q$\n",
    "\n",
    "$q$ possui carga de $1nC$. Como $\\vec{F} = q \\vec{E}$, logo:\n",
    "\n",
    "$$\n",
    "\\vec{F} = 1 \\times 10^{-9} (-1.003i -1.283j + 1.398k) \\\\\n",
    "\\vec{F} = (-1.003i -1.283j + 1.398k) nN \\\\\n",
    "|F| = 2.146 nN\n",
    "$$"
   ]
  },
  {
   "cell_type": "code",
   "execution_count": null,
   "id": "f647043d",
   "metadata": {},
   "outputs": [],
   "source": [
    "F = np.linalg.norm(E * 1e-9)\n",
    "print('A força elétrica pelo campo elétrico E sobre a carga q é de: {:.3e}N'.format(F))"
   ]
  }
 ],
 "metadata": {
  "kernelspec": {
   "display_name": "Python 3 (ipykernel)",
   "language": "python",
   "name": "python3"
  },
  "language_info": {
   "codemirror_mode": {
    "name": "ipython",
    "version": 3
   },
   "file_extension": ".py",
   "mimetype": "text/x-python",
   "name": "python",
   "nbconvert_exporter": "python",
   "pygments_lexer": "ipython3",
   "version": "3.11.3"
  }
 },
 "nbformat": 4,
 "nbformat_minor": 5
}
