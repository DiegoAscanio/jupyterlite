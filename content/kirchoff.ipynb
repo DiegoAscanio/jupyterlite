{
  "metadata": {
    "language_info": {
      "codemirror_mode": {
        "name": "python",
        "version": 3
      },
      "file_extension": ".py",
      "mimetype": "text/x-python",
      "name": "python",
      "nbconvert_exporter": "python",
      "pygments_lexer": "ipython3",
      "version": "3.8"
    },
    "kernelspec": {
      "name": "python",
      "display_name": "Python (Pyodide)",
      "language": "python"
    }
  },
  "nbformat_minor": 4,
  "nbformat": 4,
  "cells": [
    {
      "cell_type": "markdown",
      "source": "# Resolução de Modelos de Circuitos Elétricos em Sistemas Lineares pelo Sympy\n\nO circuito representado pela figura:\n\n![](https://diegoascanio.github.io/ace-aula-03/img/circuito_final.png)\n\nPode ser modelado pelas leis de kirchoff da corrente e da tensão para o seguinte sistema de equações lineares:\n\n$$\n\\begin{cases}\n    &1 i_{0} - 1 i_{1} - 1 i_{2} + 0 i_{3} + 0 i_{4} + 0 i_{5} &= 0\\\\\n    &0 i_{0} + 0 i_{1} + 1 i_{2} - 1 i_{3} - 1 i_{4} + 0 i_{5} &= 0\\\\\n    &0 i_{0} - 1 i_{1} + 0 i_{2} - 1 i_{3} + 0 i_{4} + 1 i_{5} &= 0\\\\\n    &0 i_{0} + 0 i_{1} - R i_{2} + 0 i_{3} - 15 i_{4} + 0 i_{5} &= -350\\\\\n    &0 i_{0} - 50 i_{1} + R i_{2} + 15 i_{3} + 0 i_{4} + 0 i_{5} &= 0\\\\\n    &0 i_{0} + 0 i_{1} + 0 i_{2} - 15 i_{3} + 15 i_{4} - 20 i_{5} &= 0\\\\\n\\end{cases}\n$$\n\nA matriz extendida composta pela matriz de coeficientes das variáveis dos sistemas e de seus termos independentes é dada por:\n\n$$\n\\begin{bmatrix}\n    1 & -1 & -1 & 0 & 0 & 0 & 0\\\\\n    0 & 0 & 1 & -1 & -1 & 0 & 0\\\\\n    0 & -1 & 0 & -1 & 0 & 1 & 0\\\\\n    0 & 0 & -R & 0 & -15 & 0 & -350\\\\\n    0 & -50 & R & 15 & 0 & 0 & 0\\\\\n    0 & 0 & 0 & -15 & 15 & -20 & 0\n\\end{bmatrix}\n$$\n\nO SymPy é uma biblioteca em python que permite realizar álgebra simbólica, ou seja, considerar as variáveis apenas pelos seus símbolos, sem a necessidade de atribuir valores.\n\nPara usarmos a biblioteca sympy no jupyter lite é necessário instalá-la primeiro:\n",
      "metadata": {}
    },
    {
      "cell_type": "code",
      "source": "%pip install sympy",
      "metadata": {
        "trusted": true
      },
      "execution_count": 2,
      "outputs": []
    },
    {
      "cell_type": "markdown",
      "source": "Uma vez que a biblioteca foi instalada, devemos importar os recursos que oferece:",
      "metadata": {}
    },
    {
      "cell_type": "code",
      "source": "from sympy import *",
      "metadata": {
        "trusted": true
      },
      "execution_count": 3,
      "outputs": []
    },
    {
      "cell_type": "markdown",
      "source": "Definir nosso símbolo do resistor desconhecido $R$",
      "metadata": {}
    },
    {
      "cell_type": "code",
      "source": "R = Symbol('R')",
      "metadata": {
        "trusted": true
      },
      "execution_count": 4,
      "outputs": []
    },
    {
      "cell_type": "markdown",
      "source": "E definir nossa matriz extendida:",
      "metadata": {}
    },
    {
      "cell_type": "code",
      "source": "M = Matrix([\n    [1, -1, -1, 0, 0, 0, 0],\n    [0, 0, 1, -1, -1, 0, 0],\n    [0, -1, 0, -1, 0, 1, 0],\n    [0, 0, -R, 0, -30, 0, -125],\n    [0, -15, R, 5, 0, 0, 0],\n    [0, 0, 0, -5, 30, -16, 0]\n])",
      "metadata": {
        "trusted": true
      },
      "execution_count": 41,
      "outputs": []
    },
    {
      "cell_type": "markdown",
      "source": "Uma vez definida nossa matriz, conseguimos obter todas as correntes $i_{0} \\cdots i_{6}$ em função de $R$ através da forma escada reduzida por linhas de $M$, obtida pelo método rref:",
      "metadata": {}
    },
    {
      "cell_type": "code",
      "source": "M_escada_linha_reduzida, indices_correntes = M.rref()\nM_escada_linha_reduzida",
      "metadata": {
        "trusted": true
      },
      "execution_count": 42,
      "outputs": [
        {
          "execution_count": 42,
          "output_type": "execute_result",
          "data": {
            "text/plain": "Matrix([\n[1, 0, 0, 0, 0, 0, (255*R + 4975)/(53*R + 474)],\n[0, 1, 0, 0, 0, 0,  (255*R + 750)/(53*R + 474)],\n[0, 0, 1, 0, 0, 0,           4225/(53*R + 474)],\n[0, 0, 0, 1, 0, 0,  (2250 - 80*R)/(53*R + 474)],\n[0, 0, 0, 0, 1, 0,  (80*R + 1975)/(53*R + 474)],\n[0, 0, 0, 0, 0, 1, (175*R + 3000)/(53*R + 474)]])",
            "text/latex": "$\\displaystyle \\left[\\begin{matrix}1 & 0 & 0 & 0 & 0 & 0 & \\frac{255 R + 4975}{53 R + 474}\\\\0 & 1 & 0 & 0 & 0 & 0 & \\frac{255 R + 750}{53 R + 474}\\\\0 & 0 & 1 & 0 & 0 & 0 & \\frac{4225}{53 R + 474}\\\\0 & 0 & 0 & 1 & 0 & 0 & \\frac{2250 - 80 R}{53 R + 474}\\\\0 & 0 & 0 & 0 & 1 & 0 & \\frac{80 R + 1975}{53 R + 474}\\\\0 & 0 & 0 & 0 & 0 & 1 & \\frac{175 R + 3000}{53 R + 474}\\end{matrix}\\right]$"
          },
          "metadata": {}
        }
      ]
    },
    {
      "cell_type": "markdown",
      "source": "Agora, temos todas as correntes escritas em função do resistor desconhecido $R$, observe que além de retornar a matriz escada linha reduzida, rref retorna também os indices das variáveis que buscamos - no nosso caso a corrente elétrica de cada um dos elementos do circuito. No começo do exemplo, foi nos informado que a corrente que passa pelo resistor de $30\\Omega$ é de $1A$. Essa corrente é $i_1$.\n\n$$\ni_1 = \\frac{350 R + 1575}{62 R + 615} = 1A \\rightarrow \\\\\ni_1 - 1A = \\frac{350 R + 1575}{62 R + 615} - 1A = 0\n$$\n\nA equação de $i_1$ em função de $R$ está na ultima coluna da segunda linha da matriz escada linha reduzida:",
      "metadata": {}
    },
    {
      "cell_type": "code",
      "source": "i_1_R = M_escada_linha_reduzida[1,-1]\ni_1_R",
      "metadata": {
        "trusted": true
      },
      "execution_count": 43,
      "outputs": [
        {
          "execution_count": 43,
          "output_type": "execute_result",
          "data": {
            "text/plain": "(255*R + 750)/(53*R + 474)",
            "text/latex": "$\\displaystyle \\frac{255 R + 750}{53 R + 474}$"
          },
          "metadata": {}
        }
      ]
    },
    {
      "cell_type": "markdown",
      "source": "Sympy tem o método solve, que obtém a raiz (o valor da variável simbólica quando a equação é igual a zero) de uma equação informada.\n\nSabemos que $i_1 - 1A = \\frac{350 R + 1575}{62 R + 615} - 1A = 0$\n\nSe resolvermos esta equação, logo, encontraremos o valor de R.",
      "metadata": {}
    },
    {
      "cell_type": "code",
      "source": "solve(i_1_R - 3)",
      "metadata": {
        "trusted": true
      },
      "execution_count": 44,
      "outputs": [
        {
          "execution_count": 44,
          "output_type": "execute_result",
          "data": {
            "text/plain": "[7]"
          },
          "metadata": {}
        }
      ]
    }
  ]
}