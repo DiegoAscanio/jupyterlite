{
 "cells": [
  {
   "cell_type": "markdown",
   "metadata": {},
   "source": [
    "# Resolução de Modelos de Circuitos Elétricos em Sistemas Lineares pelo Sympy\n",
    "\n",
    "O circuito representado pela figura:\n",
    "\n",
    "![](https://diegoascanio.github.io/ace-aula-03/img/circuito_final_ohm.png)\n",
    "\n",
    "Pode ser modelado pelas leis de kirchoff da corrente e da tensão para o seguinte sistema de equações lineares:\n",
    "\n",
    "$$\n",
    "\\begin{cases}\n",
    "    &1 V_{a} + 0 V_{b} + 0 V_{c} + 0 V_{d} + 0 V_{e} + 0 V_{f} + 0 V_{g} + 0 i_{0} + 0 i_{1} - R i_{2} + 0 i_{3} + 0 i_{4} + 0 i_{5} &= 0\\\\\n",
    "    &0 V_{a} + 1 V_{b} + 0 V_{c} + 0 V_{d} + 0 V_{e} + 0 V_{f} + 0 V_{g} + 0 i_{0} - 9 i_{1} + 0 i_{2} + 0 i_{3} + 0 i_{4} + 0 i_{5} &= 0\\\\\n",
    "    &0 V_{a} + 0 V_{b} + 1 V_{c} + 0 V_{d} + 0 V_{e} + 0 V_{f} + 0 V_{g} + 0 i_{0} - 6 i_{1} + 0 i_{2} + 0 i_{3} + 0 i_{4} + 0 i_{5} &= 0\\\\\n",
    "    &0 V_{a} + 0 V_{b} + 0 V_{c} + 1 V_{d} + 0 V_{e} + 0 V_{f} + 0 V_{g} + 0 i_{0} + 0 i_{1} + 0 i_{2} - 5 i_{3} + 0 i_{4} + 0 i_{5} &= 0\\\\\n",
    "    &0 V_{a} + 0 V_{b} + 0 V_{c} + 0 V_{d} + 1 V_{e} + 0 V_{f} + 0 V_{g} + 0 i_{0} + 0 i_{1} + 0 i_{2} + 0 i_{3} + 0 i_{4} - 10 i_{5} &= 0\\\\\n",
    "    &0 V_{a} + 0 V_{b} + 0 V_{c} + 0 V_{d} + 0 V_{e} + 1 V_{f} + 0 V_{g} + 0 i_{0} + 0 i_{1} + 0 i_{2} + 0 i_{3} + 0 i_{4} - 6 i_{5} &= 0\\\\\n",
    "    &0 V_{a} + 0 V_{b} + 0 V_{c} + 0 V_{d} + 0 V_{e} + 0 V_{f} + 1 V_{g} + 0 i_{0} + 0 i_{1} + 0 i_{2} + 0 i_{3} - 30 i_{4} + 0 i_{5} &= 0\\\\\n",
    "    &0 V_{a} + 0 V_{b} + 0 V_{c} + 0 V_{d} + 0 V_{e} + 0 V_{f} + 0 V_{g} + 1 i_{0} - 1 i_{1} - 1 i_{2} + 0 i_{3} + 0 i_{4} + 0 i_{5} &= 0\\\\\n",
    "    &0 V_{a} + 0 V_{b} + 0 V_{c} + 0 V_{d} + 0 V_{e} + 0 V_{f} + 0 V_{g} + 0 i_{0} + 0 i_{1} + 1 i_{2} - 1 i_{3} - 1 i_{4} + 0 i_{5} &= 0\\\\\n",
    "    &0 V_{a} + 0 V_{b} + 0 V_{c} + 0 V_{d} + 0 V_{e} + 0 V_{f} + 0 V_{g} + 0 i_{0} - 1 i_{1} + 0 i_{2} - 1 i_{3} + 0 i_{4} + 1 i_{5} &= 0\\\\\n",
    "    &0 V_{a} + 0 V_{b} + 0 V_{c} + 0 V_{d} + 0 V_{e} + 0 V_{f} + 0 V_{g} + 0 i_{0} + 0 i_{1} - R i_{2} + 0 i_{3} - 30 i_{4} + 0 i_{5} &= -125\\\\\n",
    "    &0 V_{a} + 0 V_{b} + 0 V_{c} + 0 V_{d} + 0 V_{e} + 0 V_{f} + 0 V_{g} + 0 i_{0} - 15 i_{1} + R i_{2} + 5 i_{3} + 0 i_{4} + 0 i_{5} &= 0\\\\\n",
    "    &0 V_{a} + 0 V_{b} + 0 V_{c} + 0 V_{d} + 0 V_{e} + 0 V_{f} + 0 V_{g} + 0 i_{0} + 0 i_{1} + 0 i_{2} - 5 i_{3} + 30 i_{4} - 16 i_{5} &= 0\\\\\n",
    "\\end{cases}\n",
    "$$\n",
    "\n",
    "A matriz extendida composta pela matriz de coeficientes das variáveis dos sistemas e de seus termos independentes é dada por:\n",
    "\n",
    "$$\n",
    "\\begin{bmatrix}\n",
    "    1 & 0 & 0 & 0 & 0 & 0 & 0 & 0 & 0 & -R & 0 & 0 & 0 & 0 \\\\\n",
    "    0 & 1 & 0 & 0 & 0 & 0 & 0 & 0 & -9 & 0 & 0 & 0 & 0 & 0 \\\\\n",
    "    0 & 0 & 1 & 0 & 0 & 0 & 0 & 0 & -6 & 0 & 0 & 0 & 0 & 0 \\\\\n",
    "    0 & 0 & 0 & 1 & 0 & 0 & 0 & 0 & 0 & 0 & -5 & 0 & 0 & 0 \\\\\n",
    "    0 & 0 & 0 & 0 & 1 & 0 & 0 & 0 & 0 & 0 & 0 & 0 & -10 & 0 \\\\\n",
    "    0 & 0 & 0 & 0 & 0 & 1 & 0 & 0 & 0 & 0 & 0 & 0 & -6 & 0 \\\\\n",
    "    0 & 0 & 0 & 0 & 0 & 0 & 1 & 0 & 0 & 0 & 0 & -30 & 0 & 0 \\\\\n",
    "    0 & 0 & 0 & 0 & 0 & 0 & 0 & 1 & -1 & -1 & 0 & 0 & 0 & 0 \\\\\n",
    "    0 & 0 & 0 & 0 & 0 & 0 & 0 & 0 & 0 & 1 & -1 & -1 & 0 & 0 \\\\\n",
    "    0 & 0 & 0 & 0 & 0 & 0 & 0 & 0 & -1 & 0 & -1 & 0 & 1 & 0 \\\\\n",
    "    0 & 0 & 0 & 0 & 0 & 0 & 0 & 0 & 0 & -R & 0 & -30 & 0 & -125 \\\\\n",
    "    0 & 0 & 0 & 0 & 0 & 0 & 0 & 0 & -15 & R & 5 & 0 & 0 & 0 \\\\\n",
    "    0 & 0 & 0 & 0 & 0 & 0 & 0 & 0 & 0 & 0 & -5 & 30 & -16 & 0\n",
    "\\end{bmatrix}\n",
    "$$\n",
    "\n",
    "O SymPy é uma biblioteca em python que permite realizar álgebra simbólica, ou seja, considerar as variáveis apenas pelos seus símbolos, sem a necessidade de atribuir valores.\n",
    "\n",
    "Para usarmos a biblioteca sympy no jupyter lite é necessário instalá-la primeiro:\n"
   ]
  },
  {
   "cell_type": "code",
   "execution_count": null,
   "metadata": {},
   "outputs": [],
   "source": [
    "%pip install sympy"
   ]
  },
  {
   "cell_type": "markdown",
   "metadata": {},
   "source": [
    "Uma vez que a biblioteca foi instalada, devemos importar os recursos que oferece:"
   ]
  },
  {
   "cell_type": "code",
   "execution_count": null,
   "metadata": {},
   "outputs": [],
   "source": [
    "from sympy import *"
   ]
  },
  {
   "cell_type": "markdown",
   "metadata": {},
   "source": [
    "Definir nosso símbolo do resistor desconhecido $R$"
   ]
  },
  {
   "cell_type": "code",
   "execution_count": null,
   "metadata": {},
   "outputs": [],
   "source": [
    "R = Symbol('R')"
   ]
  },
  {
   "cell_type": "markdown",
   "metadata": {},
   "source": [
    "E definir nossa matriz extendida:"
   ]
  },
  {
   "cell_type": "code",
   "execution_count": null,
   "metadata": {},
   "outputs": [],
   "source": [
    "M = Matrix([\n",
    "    [1, 0, 0, 0, 0, 0, 0, 0, 0, -R, 0, 0, 0, 0],\n",
    "    [0, 1, 0, 0, 0, 0, 0, 0, -9, 0, 0, 0, 0, 0],\n",
    "    [0, 0, 1, 0, 0, 0, 0, 0, -6, 0, 0, 0, 0, 0],\n",
    "    [0, 0, 0, 1, 0, 0, 0, 0, 0, 0, -5, 0, 0, 0],\n",
    "    [0, 0, 0, 0, 1, 0, 0, 0, 0, 0, 0, 0, -10, 0],\n",
    "    [0, 0, 0, 0, 0, 1, 0, 0, 0, 0, 0, 0, -6, 0],\n",
    "    [0, 0, 0, 0, 0, 0, 1, 0, 0, 0, 0, -30, 0, 0],\n",
    "    [0, 0, 0, 0, 0, 0, 0, 1, -1, -1, 0, 0, 0, 0],\n",
    "    [0, 0, 0, 0, 0, 0, 0, 0, 0, 1, -1, -1, 0, 0],\n",
    "    [0, 0, 0, 0, 0, 0, 0, 0, -1, 0, -1, 0, 1, 0],\n",
    "    [0, 0, 0, 0, 0, 0, 0, 0, 0, -R, 0, -30, 0, -125],\n",
    "    [0, 0, 0, 0, 0, 0, 0, 0, -15, R, 5, 0, 0, 0],\n",
    "    [0, 0, 0, 0, 0, 0, 0, 0, 0, 0, -5, 30, -16, 0],\n",
    "])"
   ]
  },
  {
   "cell_type": "markdown",
   "metadata": {},
   "source": [
    "Uma vez definida nossa matriz, conseguimos obter todas as correntes $i_{0} \\cdots i_{6}$ em função de $R$ através da forma escada reduzida por linhas de $M$, obtida pelo método rref:"
   ]
  },
  {
   "cell_type": "code",
   "execution_count": null,
   "metadata": {},
   "outputs": [],
   "source": [
    "M_escada_linha_reduzida, _ = M.rref()\n",
    "M_escada_linha_reduzida"
   ]
  },
  {
   "cell_type": "markdown",
   "metadata": {},
   "source": [
    "Agora, temos todas as correntes escritas em função do resistor desconhecido $R$, observe que além de retornar a matriz escada linha reduzida, rref retorna também os indices das variáveis que buscamos - no nosso caso a corrente elétrica de cada um dos elementos do circuito. No começo do exemplo, foi nos informado que a corrente que passa pelo resistor de $9\\Omega$ é de $3A$. Essa corrente é $i_1$.\n",
    "\n",
    "A equação de $i_1$ em função de $R$ está na ultima coluna da segunda linha da matriz escada linha reduzida:"
   ]
  },
  {
   "cell_type": "code",
   "execution_count": null,
   "metadata": {},
   "outputs": [],
   "source": [
    "i_1_R = M_escada_linha_reduzida[8,-1]\n",
    "i_1_R"
   ]
  },
  {
   "cell_type": "markdown",
   "metadata": {},
   "source": [
    "Sympy tem o método solve, que obtém a raiz (o valor da variável simbólica quando a equação é igual a zero) de uma equação informada.\n",
    "\n",
    "Sabemos que $i_1 - 3A = \\frac{255 R + 750}{53 R + 474} - 3A = 0$\n",
    "\n",
    "Se resolvermos esta equação, logo, encontraremos o valor de R."
   ]
  },
  {
   "cell_type": "code",
   "execution_count": null,
   "metadata": {},
   "outputs": [],
   "source": [
    "solve(i_1_R - 3)"
   ]
  },
  {
   "cell_type": "markdown",
   "metadata": {},
   "source": [
    "Como $R = 7 \\Omega$, ao substituir este valor nas equações das outras correntes, resolvemos o circuito por completo:"
   ]
  },
  {
   "cell_type": "code",
   "execution_count": null,
   "metadata": {},
   "outputs": [],
   "source": [
    "# defino um vetor de resultados\n",
    "Resultados = {}\n",
    "# R vale 7 Ohms\n",
    "r = 7\n",
    "variaveis = ['Va', 'Vb', 'Vc', 'Vd', 'Ve', 'Vf', 'Vg', 'i0', 'i1', 'i2', 'i3', 'i4', 'i5']\n",
    "# resolvo todas as variaveis em funcao de R\n",
    "for indice, variavel in enumerate(variaveis):\n",
    "    funcao_variavel_em_funcao_de_r = M_escada_linha_reduzida[indice, -1]\n",
    "    # o subs, substitui o Valor R desconhecido pelo r resolvido\n",
    "    # que vale 7 ohms\n",
    "    valor_em_funcao_de_r = funcao_variavel_em_funcao_de_r.subs(\n",
    "        R, r\n",
    "    )\n",
    "    Resultados['{}'.format(variavel)] = '{}'.format(valor_em_funcao_de_r)\n",
    "# mostro as correntes do circuito\n",
    "Resultados"
   ]
  },
  {
   "cell_type": "markdown",
   "metadata": {},
   "source": [
    "Assim, nosso circuito está resolvido!"
   ]
  }
 ],
 "metadata": {
  "kernelspec": {
   "display_name": "Python 3 (ipykernel)",
   "language": "python",
   "name": "python3"
  },
  "language_info": {
   "codemirror_mode": {
    "name": "ipython",
    "version": 3
   },
   "file_extension": ".py",
   "mimetype": "text/x-python",
   "name": "python",
   "nbconvert_exporter": "python",
   "pygments_lexer": "ipython3",
   "version": "3.11.3"
  }
 },
 "nbformat": 4,
 "nbformat_minor": 4
}
