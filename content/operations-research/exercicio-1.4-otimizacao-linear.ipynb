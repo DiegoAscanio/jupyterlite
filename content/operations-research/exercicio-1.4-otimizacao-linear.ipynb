{
  "metadata": {
    "language_info": {
      "codemirror_mode": {
        "name": "python",
        "version": 3
      },
      "file_extension": ".py",
      "mimetype": "text/x-python",
      "name": "python",
      "nbconvert_exporter": "python",
      "pygments_lexer": "ipython3",
      "version": "3.8"
    },
    "kernelspec": {
      "name": "python",
      "display_name": "Python (Pyodide)",
      "language": "python"
    }
  },
  "nbformat_minor": 4,
  "nbformat": 4,
  "cells": [
    {
      "cell_type": "markdown",
      "source": "Instalar o Solver",
      "metadata": {}
    },
    {
      "cell_type": "code",
      "source": "%pip install pulp",
      "metadata": {},
      "execution_count": null,
      "outputs": []
    },
    {
      "cell_type": "markdown",
      "source": "Importar pacotes necessarios",
      "metadata": {}
    },
    {
      "cell_type": "code",
      "source": "from pulp import LpProblem, LpMinimize, LpVariable",
      "metadata": {
        "trusted": true
      },
      "execution_count": null,
      "outputs": []
    },
    {
      "cell_type": "code",
      "source": "# criando um problema\nproblema = LpProblem('Problema_Localizacao_Maquina_Nova', LpMinimize)\n# criando as variaveis\ncoordenadas_maquina_nova = LpVariable.dicts(\n    'maquina_nova',\n    ['X_{}'.format(i+1) for i in range(2)],\n    0\n)\nmanhattan_x = LpVariable.dicts(\n    '',\n    ['U_{}'.format(i+1) for i in range(4)],\n    0\n)\nmanhattan_y = LpVariable.dicts(\n    '',\n    ['V_{}'.format(i+1) for i in range(4)],\n    0\n)\n# funcao objetivo - minimizar soma das distancias U_1 até U_4, V_1 até V_4\ndistancias  = [manhattan_x[i] for i in manhattan_x]\ndistancias += [manhattan_y[i] for i in manhattan_y]\nproblema += (\n    lpSum(\n        distancias,\n    ),\n    'Soma das distancias de manhattan entre a maquina nova e as antigas'\n)\n# adicionar as restricoes\n# U_1\nproblema += (\n    coordenadas_maquina_nova['X_1'] - 3 >= manhattan_x['U_1'],\n    '1'\n)\nproblema += (\n    - (coordenadas_maquina_nova['X_1'] - 3) <= - manhattan_x['U_1'],\n    '2'\n)\n# U_2\nproblema += (\n    coordenadas_maquina_nova['X_1'] >= manhattan_x['U_2'],\n    '3'\n)\nproblema += (\n    - (coordenadas_maquina_nova['X_1']) <= - manhattan_x['U_2'],\n    '4'\n)\n# U_3\nproblema += (\n    coordenadas_maquina_nova['X_1'] + 2 >= manhattan_x['U_3'],\n    '5'\n)\nproblema += (\n    - (coordenadas_maquina_nova['X_1'] + 2) <= - manhattan_x['U_3'],\n    '6'\n)\n# U_4\nproblema += (\n    coordenadas_maquina_nova['X_1'] - 1 >= manhattan_x['U_4'],\n    '7'\n)\nproblema += (\n    - (coordenadas_maquina_nova['X_1'] - 1) <= - manhattan_x['U_4'],\n    '8'\n)\n# V_1\nproblema += (\n    coordenadas_maquina_nova['X_2'] - 1 >= manhattan_y['V_1'],\n    '9'\n)\nproblema += (\n    - (coordenadas_maquina_nova['X_2'] - 1) <= - manhattan_y['V_1'],\n    '10'\n)\n# V_2\nproblema += (\n    coordenadas_maquina_nova['X_2'] + 3 >= manhattan_y['V_2'],\n    '11'\n)\nproblema += (\n    - (coordenadas_maquina_nova['X_2'] + 3) <= - manhattan_y['V_2'],\n    '12'\n)\n# V_3\nproblema += (\n    coordenadas_maquina_nova['X_2'] - 2 >= manhattan_y['V_3'],\n    '13'\n)\nproblema += (\n    - (coordenadas_maquina_nova['X_2'] - 2) <= - manhattan_y['V_3'],\n    '14'\n)\n# V_4\nproblema += (\n    coordenadas_maquina_nova['X_2'] - 4 >= manhattan_y['V_4'],\n    '15'\n)\nproblema += (\n    - (coordenadas_maquina_nova['X_2'] - 4) <= - manhattan_y['V_4'],\n    '16'\n)\ndisplay(problema)",
      "metadata": {
        "trusted": true
      },
      "execution_count": null,
      "outputs": []
    },
    {
      "cell_type": "code",
      "source": "problema.solve()",
      "metadata": {
        "trusted": true
      },
      "execution_count": null,
      "outputs": []
    },
    {
      "cell_type": "code",
      "source": "from js import fetch, WebAssembly",
      "metadata": {
        "trusted": true
      },
      "execution_count": null,
      "outputs": []
    },
    {
      "cell_type": "code",
      "source": "response = await fetch('./content/cbc.wasm')",
      "metadata": {
        "trusted": true
      },
      "execution_count": null,
      "outputs": []
    },
    {
      "cell_type": "code",
      "source": "print(await response.text())",
      "metadata": {
        "trusted": true
      },
      "execution_count": null,
      "outputs": []
    },
    {
      "cell_type": "code",
      "source": "",
      "metadata": {},
      "execution_count": null,
      "outputs": []
    }
  ]
}